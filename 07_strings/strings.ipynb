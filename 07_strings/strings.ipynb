{
 "cells": [
  {
   "cell_type": "markdown",
   "metadata": {},
   "source": [
    "\n",
    "<div style=\"max-width:66ch;\">\n",
    "\n",
    "# Lecture notes - strings\n",
    "\n",
    "This is the lecture note for **strings**, but it's built upon contents from previous lectures such as: \n",
    "- input-output\n",
    "- variables\n",
    "- if-statement\n",
    "- for loop\n",
    "- while \n",
    "- lists\n",
    "- random\n",
    "\n",
    "strings are arrays of bytes that represents unicode characters\n",
    "\n",
    "<p class = \"alert alert-info\" role=\"alert\"><b>Note</b> that this lecture note gives a brief introduction to strings. I encourage you to read further about strings, when there is some functionality that you need.  \n",
    "\n",
    "</div>"
   ]
  },
  {
   "cell_type": "markdown",
   "metadata": {},
   "source": [
    "<div style=\"max-width:66ch;\">\n",
    "\n",
    "## Concatenate strings\n",
    "\n",
    "\n",
    "</div>"
   ]
  },
  {
   "cell_type": "code",
   "execution_count": 2,
   "metadata": {},
   "outputs": [
    {
     "name": "stdout",
     "output_type": "stream",
     "text": [
      "\n",
      "Name: Kokchun Giang\n",
      "Work: AIgineer AB\n",
      "Adress: Supah cool streeeto\n",
      "Phone: 112\n",
      "\n"
     ]
    }
   ],
   "source": [
    "firstname = \"Kokchun\"\n",
    "lastname = \"Giang\"\n",
    "\n",
    "fullname = firstname + \" \" + lastname # concatenating strings\n",
    "work = \"AIgineer AB\"\n",
    "address = \"Supah cool streeeto\"\n",
    "phone = \"112\"\n",
    "\n",
    "# multiline f-string\n",
    "contact_details = f\"\"\"\n",
    "Name: {fullname}\n",
    "Work: {work}\n",
    "Adress: {address}\n",
    "Phone: {phone}\n",
    "\"\"\"\n",
    "\n",
    "print(contact_details)"
   ]
  },
  {
   "cell_type": "markdown",
   "metadata": {},
   "source": [
    "## Concatenate with loop"
   ]
  },
  {
   "cell_type": "code",
   "execution_count": 3,
   "metadata": {},
   "outputs": [
    {
     "name": "stdout",
     "output_type": "stream",
     "text": [
      "Veckomeny\n",
      "Må: Chili sin carne \n",
      "Ti: Nudlar \n",
      "On: Pokebowl \n",
      "To: Pannkakor \n",
      "Fr: Tacos \n",
      "\n"
     ]
    }
   ],
   "source": [
    "bamba = [\"Chili sin carne\", \"Nudlar\", \"Pokebowl\", \"Pannkakor\", \"Tacos\"]\n",
    "days = [\"Må\", \"Ti\", \"On\", \"To\", \"Fr\"]\n",
    "\n",
    "menu = \"Veckomeny\\n\" # \\n gives newline\n",
    "\n",
    "for day, food in zip(days, bamba):\n",
    "    menu += f\"{day}: {food} \\n\"\n",
    "\n",
    "print(menu)\n"
   ]
  },
  {
   "cell_type": "markdown",
   "metadata": {},
   "source": [
    "<div style=\"max-width:66ch;\">\n",
    "\n",
    "## Indexing\n",
    "\n",
    "- a string is an array of bytes that represents unicode characters\n",
    "- use the indexing operator [] to access elements\n",
    "- combine with slice operator : to get a section in the string\n",
    "\n",
    "</div>"
   ]
  },
  {
   "cell_type": "code",
   "execution_count": 4,
   "metadata": {},
   "outputs": [
    {
     "name": "stdout",
     "output_type": "stream",
     "text": [
      "quote[0]: !\n",
      "quote[5]: e - i\n",
      "quote[-4]: T\n",
      "quote[-4:]: True\n",
      "Backwards quote[::-1]: eurT s'ti esuaceb ynnuf s'ti - eslaF!\n"
     ]
    }
   ],
   "source": [
    "# note the different types of quotes, can't use '' for denoting string here, as ' is already used\n",
    "quote = \"!False - it's funny because it's True\" \n",
    "print(f\"quote[0]: {quote[0]}\")\n",
    "print(f\"quote[5]: {quote[5:10]}\") # [start:end-1]\n",
    "print(f\"quote[-4]: {quote[-4]}\") # indexing starting from the end\n",
    "print(f\"quote[-4:]: {quote[-4:]}\") # slice from -4 to the end\n",
    "print(f\"Backwards quote[::-1]: {quote[::-1]}\") # reversing"
   ]
  },
  {
   "cell_type": "markdown",
   "metadata": {},
   "source": [
    "<div style=\"max-width:66ch;\">\n",
    "\n",
    "## Split and clean a string\n",
    "\n",
    "- splitting a string\n",
    "\n",
    "</div>\n"
   ]
  },
  {
   "cell_type": "code",
   "execution_count": 5,
   "metadata": {},
   "outputs": [
    {
     "name": "stdout",
     "output_type": "stream",
     "text": [
      "MATH has 4 letters\n",
      "BIOLOGY has 7 letters\n",
      "CHEMISTRY has 9 letters\n",
      "PROGRAMMING has 11 letters\n"
     ]
    }
   ],
   "source": [
    "subjects = \"Math, biology  ,   cHeMistry  ,  PrOgramming      \"\n",
    "subjects = subjects.split(\",\") # argument defines the pattern which the string should be splitted\n",
    "\n",
    "subjects = [subject.strip().upper() for subject in subjects] # strips and make uppercase\n",
    "\n",
    "for subject in subjects: \n",
    "    print(f\"{subject} has {len(subject)} letters\") \n",
    "    # len() returns the number of items, for a string it returns the number of characters"
   ]
  },
  {
   "cell_type": "code",
   "execution_count": 6,
   "metadata": {},
   "outputs": [
    {
     "name": "stdout",
     "output_type": "stream",
     "text": [
      "Medelvärdet av dina tal är 17.6\n"
     ]
    }
   ],
   "source": [
    "# mean from input\n",
    "numbers = input(\"Ange några tal separerade med mellanslag: \").split()\n",
    "numbers = [float(number) for number in numbers]\n",
    "\n",
    "sum = 0\n",
    "\n",
    "for number in numbers:\n",
    "    sum += number\n",
    "\n",
    "mean = sum/len(numbers)\n",
    "print(f\"Medelvärdet av dina tal är {mean:.1f}\")"
   ]
  },
  {
   "cell_type": "markdown",
   "metadata": {},
   "source": [
    "<div style=\"max-width:66ch;\">\n",
    "\n",
    "## Regular expressions\n",
    "\n",
    "Used for finding particular patterns in strings by using descriptors and matching.\n",
    "- findall(regex, string) returns a list of all matches\n",
    "- read more [w3schools - regular expressions](https://www.w3schools.com/python/python_regex.asp)\n",
    "\n",
    "we will cover more regular expressions in future lectures\n",
    "\n",
    "</div>"
   ]
  },
  {
   "cell_type": "code",
   "execution_count": 7,
   "metadata": {},
   "outputs": [
    {
     "name": "stdout",
     "output_type": "stream",
     "text": [
      "['katt', 'hatt']\n"
     ]
    }
   ],
   "source": [
    "import re \n",
    "\n",
    "# find all words ending with att in this text\n",
    "text = \"Det var en gång en katt som tog på sig en hatt.\"\n",
    "# need to use raw strings for regexp\n",
    "match_list = re.findall(r\".att\", text) # dot . matches all characters\n",
    "print(match_list)"
   ]
  },
  {
   "cell_type": "code",
   "execution_count": 1,
   "metadata": {},
   "outputs": [
    {
     "name": "stdout",
     "output_type": "stream",
     "text": [
      "Naive YYYYMMDD-XXXX: ['19950516-2235', '19581212-3213']\n",
      "Naive YYMMDD-XXXX: ['950516-2235', '581212-3213', '050524-1513']\n"
     ]
    }
   ],
   "source": [
    "import re\n",
    "\n",
    "personal_numbers = \"Ida: 19950516-2235, Berit: 19581212-3213, Ada: 050524-1513\"\n",
    "\n",
    "match_long = re.findall(r\"\\d{8}-\\d{4}\", personal_numbers) #\\d - digit, {x} number of times it repeats\n",
    "print(f\"Naive YYYYMMDD-XXXX: {match_long}\")\n",
    "\n",
    "match_short = re.findall(r\"\\d{6}-\\d{4}\", personal_numbers)\n",
    "print(f\"Naive YYMMDD-XXXX: {match_short}\")"
   ]
  },
  {
   "cell_type": "markdown",
   "metadata": {},
   "source": [
    "### Strings practice"
   ]
  },
  {
   "cell_type": "code",
   "execution_count": 1,
   "metadata": {},
   "outputs": [
    {
     "name": "stdout",
     "output_type": "stream",
     "text": [
      "Aira Franco\n"
     ]
    }
   ],
   "source": [
    "first_name = \"Aira\"\n",
    "last_name = \"Franco\"\n",
    "\n",
    "full_name = first_name + \" \" + last_name\n",
    "print(full_name)"
   ]
  },
  {
   "cell_type": "code",
   "execution_count": 2,
   "metadata": {},
   "outputs": [],
   "source": [
    "work = \"LOL\"\n",
    "address = \"123 45\"\n",
    "phone = \"123\"\n",
    "\n",
    "contact_details = f\"\"\"\n",
    "name: {full_name}\n",
    "work: {work}\n",
    "address: {address}\n",
    "phone: {phone}\n",
    "\"\"\""
   ]
  },
  {
   "cell_type": "code",
   "execution_count": 4,
   "metadata": {},
   "outputs": [
    {
     "name": "stdout",
     "output_type": "stream",
     "text": [
      "\n",
      "name: Aira Franco\n",
      "work: LOL\n",
      "address: 123 45\n",
      "phone: 123\n",
      "\n"
     ]
    }
   ],
   "source": [
    "print(contact_details)"
   ]
  },
  {
   "cell_type": "code",
   "execution_count": 8,
   "metadata": {},
   "outputs": [
    {
     "name": "stdout",
     "output_type": "stream",
     "text": [
      " chili con carne      Monday\n",
      "noodles              Tuessday\n",
      "pockebowl            Wednesday\n",
      "pancake              Thursday\n",
      "taco                 Friday\n",
      "\n"
     ]
    }
   ],
   "source": [
    "menu = [\"chili con carne\", \"noodles\", \"pockebowl\", \"pancake\", \"taco\"]\n",
    "days = [\"Monday\", \"Tuessday\", \"Wednesday\", \"Thursday\", \"Friday\"]\n",
    "\n",
    "weekly_menu = \" \"\n",
    "\n",
    "for day, food in zip(menu, days):\n",
    "    weekly_menu += f'{day:<20} {food}\\n'\n",
    "\n",
    "print(weekly_menu)"
   ]
  },
  {
   "cell_type": "markdown",
   "metadata": {},
   "source": [
    "### splitting and cleaning string"
   ]
  },
  {
   "cell_type": "code",
   "execution_count": 17,
   "metadata": {},
   "outputs": [
    {
     "data": {
      "text/plain": [
       "['mAth', 'EngLish', 'HisTorY']"
      ]
     },
     "execution_count": 17,
     "metadata": {},
     "output_type": "execute_result"
    }
   ],
   "source": [
    "subj = \"mAth, EngLish, HisTorY\"\n",
    "\n",
    "subj = subj.split(\", \")\n",
    "subj"
   ]
  },
  {
   "cell_type": "code",
   "execution_count": 20,
   "metadata": {},
   "outputs": [
    {
     "data": {
      "text/plain": [
       "['math', 'english', 'history']"
      ]
     },
     "execution_count": 20,
     "metadata": {},
     "output_type": "execute_result"
    }
   ],
   "source": [
    "subjects = [subj.strip().lower() for subj in subj]\n",
    "subjects"
   ]
  },
  {
   "cell_type": "code",
   "execution_count": 22,
   "metadata": {},
   "outputs": [
    {
     "name": "stdout",
     "output_type": "stream",
     "text": [
      "math has 4 characters.\n",
      "english has 7 characters.\n",
      "history has 7 characters.\n"
     ]
    }
   ],
   "source": [
    "subjects = [subj.strip().lower() for subj in subj]\n",
    "for subjects in subjects:\n",
    "    print(f'{subjects} has {len(subjects)} characters.')"
   ]
  },
  {
   "cell_type": "markdown",
   "metadata": {},
   "source": []
  },
  {
   "cell_type": "code",
   "execution_count": null,
   "metadata": {},
   "outputs": [],
   "source": []
  }
 ],
 "metadata": {
  "kernelspec": {
   "display_name": "Python 3",
   "language": "python",
   "name": "python3"
  },
  "language_info": {
   "codemirror_mode": {
    "name": "ipython",
    "version": 3
   },
   "file_extension": ".py",
   "mimetype": "text/x-python",
   "name": "python",
   "nbconvert_exporter": "python",
   "pygments_lexer": "ipython3",
   "version": "3.12.10"
  },
  "orig_nbformat": 4
 },
 "nbformat": 4,
 "nbformat_minor": 2
}
