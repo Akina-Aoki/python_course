{
 "cells": [
  {
   "cell_type": "markdown",
   "id": "c7bbd7a1",
   "metadata": {},
   "source": [
    "# 🥋 Level 1: The “Book Tracker” Class\n",
    "\n",
    "## Goal:\n",
    "Create a Python class that models a book and allows basic interaction with it — something a small library system might use.\n",
    "\n",
    "## Inputs / Outputs:\n",
    "\n",
    "Input: attributes when creating a book — title, author, pages, and read (boolean).\n",
    "\n",
    "Output: formatted information about the book when printed, and methods to mark it as read or unread.\n",
    "\n",
    "## Requirements:\n",
    "\n",
    "Use a class called Book.\n",
    "\n",
    "Store attributes privately (use underscore _title, _author, etc.).\n",
    "\n",
    "Add methods:\n",
    "\n",
    "mark_read() → sets read to True\n",
    "\n",
    "mark_unread() → sets read to False\n",
    "\n",
    "__str__() → returns a neat string like:\n",
    "\"Title: 1984 | Author: George Orwell | Pages: 328 | Read: Yes\"\n",
    "\n",
    "## Add a simple validation:\n",
    "\n",
    "Pages must be a positive integer, otherwise raise ValueError.\n",
    "\n",
    "## Constraints:\n",
    "\n",
    "No external libraries.\n",
    "\n",
    "Follow clean naming conventions (PEP8).\n",
    "\n",
    "Think like a developer — what data should be public vs private?"
   ]
  },
  {
   "cell_type": "code",
   "execution_count": 22,
   "id": "25a324f8",
   "metadata": {},
   "outputs": [],
   "source": [
    "class Book:\n",
    "    def __init__(self, title:str, author:str, pages:int, read:bool = False):\n",
    "        \"\"\"\n",
    "        VALIDATION\n",
    "        Pages must be a positive integer, otherwise raise ValueError.\n",
    "        validation placement MUST live inside INSIDE the __init__, where the obj is created \n",
    "        Store pages as _pages (private)\n",
    "        Add @property for access\n",
    "        \"\"\"\n",
    "        if not isinstance (pages, int):\n",
    "            raise ValueError(\"Pages must be a positive integer\")\n",
    "        elif pages <= 0:\n",
    "            raise ValueError(\"Pages must be a positive integer\")\n",
    "\n",
    "        self._title = title\n",
    "        self._author = author\n",
    "        self._pages = pages\n",
    "        self.read = read\n",
    "\n",
    "#--------------------------------------\n",
    "#           Getters & Setters\n",
    "#--------------------------------------\n",
    "\n",
    "    @property\n",
    "    def title(self):\n",
    "        \"\"\"Read only. No need for setter\"\"\"\n",
    "        return self._title\n",
    "    \n",
    "    @property\n",
    "    def author(self):\n",
    "        \"\"\"Read only. No need for setter\"\"\"\n",
    "        return self._author\n",
    "    \n",
    "# function to mark_read()\n",
    "    def mark_read(self):\n",
    "        print(f\"The book {self._title} by {self._author} is {self.read} read\")\n",
    "        self._read = True\n",
    "    \n",
    "# function to mark_inread()\n",
    "    def mark_unread(self):\n",
    "        print(f\"The book {self._title} by {self._author} is {self.read} unread\")\n",
    "        self._read = False\n",
    "\n",
    "\n",
    "# --------------------------------------\n",
    "#           Behaviors / Methods\n",
    "# --------------------------------------\n",
    "    def mark_read(self):\n",
    "        self.read = True\n",
    "\n",
    "    def mark_unread(self):\n",
    "        self.read = False\n",
    "\n",
    "    def __str__(self):\n",
    "        \"\"\"Return a string showing whether book is read or not.\"\"\"\n",
    "        read_status = \"Yes\" if self.read else \"No\"\n",
    "        return f\"Title: {self._title} | Author: {self._author} | Pages: {self._pages} | Read: {read_status}\""
   ]
  },
  {
   "cell_type": "markdown",
   "id": "301f7033",
   "metadata": {},
   "source": [
    "## Getters and Setters\n",
    "\n",
    "Think of getters and setters as tiny security guards around the attributes.\n",
    "They exist so I can add checks or logic later *without breaking code that uses your class*\n",
    "\n",
    "For `Book`, it's enough to make `title` and `author` read-only, no setter, since those rarely change.\n",
    "So we defined a property but no setter."
   ]
  },
  {
   "cell_type": "code",
   "execution_count": 23,
   "id": "7cee16b9",
   "metadata": {},
   "outputs": [
    {
     "name": "stdout",
     "output_type": "stream",
     "text": [
      "Title: 1984 | Author: George Orwell | Pages: 328 | Read: No\n"
     ]
    }
   ],
   "source": [
    "#--------------------------------------\n",
    "#              TEST CODE\n",
    "# -------------------------------------\n",
    "\n",
    "book1 = Book(\"1984\", \"George Orwell\", 328)\n",
    "print(book1)"
   ]
  },
  {
   "cell_type": "code",
   "execution_count": 24,
   "id": "100aa77d",
   "metadata": {},
   "outputs": [
    {
     "name": "stdout",
     "output_type": "stream",
     "text": [
      "Title: 1984 | Author: George Orwell | Pages: 328 | Read: Yes\n"
     ]
    }
   ],
   "source": [
    "book1.mark_read()\n",
    "print(book1)"
   ]
  },
  {
   "cell_type": "code",
   "execution_count": 28,
   "id": "1c82a630",
   "metadata": {},
   "outputs": [
    {
     "ename": "ValueError",
     "evalue": "Pages must be a positive integer",
     "output_type": "error",
     "traceback": [
      "\u001b[31m---------------------------------------------------------------------------\u001b[39m",
      "\u001b[31mValueError\u001b[39m                                Traceback (most recent call last)",
      "\u001b[36mCell\u001b[39m\u001b[36m \u001b[39m\u001b[32mIn[28]\u001b[39m\u001b[32m, line 2\u001b[39m\n\u001b[32m      1\u001b[39m \u001b[38;5;66;03m# Must raise ValueError\u001b[39;00m\n\u001b[32m----> \u001b[39m\u001b[32m2\u001b[39m book2 = \u001b[43mBook\u001b[49m\u001b[43m(\u001b[49m\u001b[33;43m\"\u001b[39;49m\u001b[33;43mPython 101\u001b[39;49m\u001b[33;43m\"\u001b[39;49m\u001b[43m,\u001b[49m\u001b[43m \u001b[49m\u001b[33;43m\"\u001b[39;49m\u001b[33;43mMike Driscoll\u001b[39;49m\u001b[33;43m\"\u001b[39;49m\u001b[43m,\u001b[49m\u001b[43m \u001b[49m\u001b[43m-\u001b[49m\u001b[32;43m50\u001b[39;49m\u001b[43m)\u001b[49m\n",
      "\u001b[36mCell\u001b[39m\u001b[36m \u001b[39m\u001b[32mIn[22]\u001b[39m\u001b[32m, line 13\u001b[39m, in \u001b[36mBook.__init__\u001b[39m\u001b[34m(self, title, author, pages, read)\u001b[39m\n\u001b[32m     11\u001b[39m     \u001b[38;5;28;01mraise\u001b[39;00m \u001b[38;5;167;01mValueError\u001b[39;00m(\u001b[33m\"\u001b[39m\u001b[33mPages must be a positive integer\u001b[39m\u001b[33m\"\u001b[39m)\n\u001b[32m     12\u001b[39m \u001b[38;5;28;01melif\u001b[39;00m pages <= \u001b[32m0\u001b[39m:\n\u001b[32m---> \u001b[39m\u001b[32m13\u001b[39m     \u001b[38;5;28;01mraise\u001b[39;00m \u001b[38;5;167;01mValueError\u001b[39;00m(\u001b[33m\"\u001b[39m\u001b[33mPages must be a positive integer\u001b[39m\u001b[33m\"\u001b[39m)\n\u001b[32m     15\u001b[39m \u001b[38;5;28mself\u001b[39m._title = title\n\u001b[32m     16\u001b[39m \u001b[38;5;28mself\u001b[39m._author = author\n",
      "\u001b[31mValueError\u001b[39m: Pages must be a positive integer"
     ]
    }
   ],
   "source": [
    "# Must raise ValueError\n",
    "book2 = Book(\"Python 101\", \"Mike Driscoll\", -50)"
   ]
  },
  {
   "cell_type": "code",
   "execution_count": 26,
   "id": "889ff31c",
   "metadata": {},
   "outputs": [
    {
     "name": "stdout",
     "output_type": "stream",
     "text": [
      "Title: Dune | Author: Frank Herbert | Pages: 412 | Read: No\n"
     ]
    }
   ],
   "source": [
    "book3 = Book(\"Dune\", \"Frank Herbert\", 412)\n",
    "book3.mark_unread()\n",
    "print(book3)"
   ]
  },
  {
   "cell_type": "code",
   "execution_count": null,
   "id": "6b69cc7e",
   "metadata": {},
   "outputs": [],
   "source": []
  }
 ],
 "metadata": {
  "kernelspec": {
   "display_name": "Python 3",
   "language": "python",
   "name": "python3"
  },
  "language_info": {
   "codemirror_mode": {
    "name": "ipython",
    "version": 3
   },
   "file_extension": ".py",
   "mimetype": "text/x-python",
   "name": "python",
   "nbconvert_exporter": "python",
   "pygments_lexer": "ipython3",
   "version": "3.12.10"
  }
 },
 "nbformat": 4,
 "nbformat_minor": 5
}
