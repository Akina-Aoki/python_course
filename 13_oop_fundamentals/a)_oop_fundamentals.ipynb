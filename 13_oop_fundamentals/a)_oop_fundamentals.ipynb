{
 "cells": [
  {
   "cell_type": "markdown",
   "metadata": {},
   "source": [
    "<div style=\"max-width:66ch;\">\n",
    "\n",
    "# Lecture notes - OOP fundamentals\n",
    "\n",
    "This is a lecture note for **oop fundamentals**. It contains\n",
    "\n",
    "- class\n",
    "- instance \n",
    "- attributes \n",
    "- docstring\n",
    "- type hinting\n",
    "- encapsulation\n",
    "- properties\n",
    "\n",
    "Note that this is an introduction to the subject, you are encouraged to read further. We will only cover enough fundamental parts that will be useful for this course and the next.\n",
    "\n",
    "---\n",
    "\n",
    "</div>\n"
   ]
  },
  {
   "cell_type": "markdown",
   "metadata": {},
   "source": [
    "<div style=\"max-width:66ch;\">\n",
    "\n",
    "## class()\n",
    "\n",
    "class itself is an **object** in Python. An object is a container for data (state) and functionality (behavior)\n",
    "- create a class using the ```class``` keyword \n",
    "- an object is instantiated from the class using the **constructor**, which is the callable syntax using the class name e.g. MyClass()\n",
    "- an object that is instantiated from the class is an **instance** of that class and has that type\n",
    "\n",
    "initialize an object\n",
    "- ```__init__()``` - \"dunder init\" is an **initializer** method which is called when the object is created \n",
    "- - used for setting initial values of **attributes**, which are variables associated with an object\n",
    "- - if not specified, Python will call a default ```__init__()```\n",
    "- **methods** - functions bound to the class\n",
    "- **self** - when a method of an object is called, the object itself is passed into the self parameter (note that self is a convention)\n",
    "- all methods pass the object itself as the first parameter \n",
    "\n",
    "</div>"
   ]
  },
  {
   "cell_type": "code",
   "execution_count": 1,
   "metadata": {},
   "outputs": [
    {
     "name": "stdout",
     "output_type": "stream",
     "text": [
      "person1: <__main__.Admission object at 0x000002254ECEA510>\n",
      "person2.program: Data science\n",
      "person2.program: UX\n",
      "person1.name: Kokchun\n",
      "person2.name: Gore Bord\n"
     ]
    }
   ],
   "source": [
    "class Admission: \n",
    "    # initializer - runs when instance of the class is created\n",
    "    def __init__(self, school, program, name, accept):\n",
    "        # assign the arguments to object attributes\n",
    "        self.school = school \n",
    "        self.program = program\n",
    "        self.name = name\n",
    "        self.accept = accept \n",
    "\n",
    "# note that the object is sent to the self parameter, so you only pass in 4 arguments and not 5\n",
    "person1 = Admission(\"Cool school\", \"AI\", accept=True, name=\"Kokchun\") # constructor\n",
    "person2 = Admission(\"Cooler school\", \"Data science\", accept=False, name = \"Gore Bord\") \n",
    "\n",
    "# an object of class Antagning() at a certain memory position in hex code\n",
    "print(f\"person1: {person1}\") \n",
    "\n",
    "# accesses an attribute of the object\n",
    "print(f\"person2.program: {person2.program}\") \n",
    "person2.program = \"UX\" # change an attribute\n",
    "print(f\"person2.program: {person2.program}\")\n",
    "\n",
    "# note that these are different as name are attributes of each object\n",
    "print(f\"person1.name: {person1.name}\")\n",
    "print(f\"person2.name: {person2.name}\")"
   ]
  },
  {
   "cell_type": "code",
   "execution_count": null,
   "metadata": {},
   "outputs": [
    {
     "data": {
      "text/plain": [
       "('cool school', 'Aira')"
      ]
     },
     "execution_count": 8,
     "metadata": {},
     "output_type": "execute_result"
    }
   ],
   "source": [
    "# video code along my version:\n",
    "\n",
    "class Admission:\n",
    "    def __init__(self, school, program, name, accept):  # parameters to this method\n",
    "        self.school = school                           # self refers to the instand\n",
    "        self.program = program                         # instande gets the value of school, etc, the parameters\n",
    "        self.name = name\n",
    "        self.accept = accept\n",
    "\n",
    "person1 = Admission(\"cool school\", \"AI\", accept = True, name = \"Aira\" )\n",
    "person1   \n",
    "# this person is in dunername - __main__\n",
    "# .Admission - isntance\n",
    "# memory adress - 0x2254ece89e0\n",
    "\n",
    "person1.school, person1.name"
   ]
  },
  {
   "cell_type": "code",
   "execution_count": null,
   "metadata": {},
   "outputs": [
    {
     "data": {
      "text/plain": [
       "'bella'"
      ]
     },
     "execution_count": 9,
     "metadata": {},
     "output_type": "execute_result"
    }
   ],
   "source": [
    "# changing person1 name\n",
    "person1.name = \"bella\"\n",
    "person1.name"
   ]
  },
  {
   "cell_type": "code",
   "execution_count": 11,
   "metadata": {},
   "outputs": [
    {
     "data": {
      "text/plain": [
       "('AI', 'Data Engineering')"
      ]
     },
     "execution_count": 11,
     "metadata": {},
     "output_type": "execute_result"
    }
   ],
   "source": [
    "person1 = Admission(\"cool school\", \"AI\", accept = True, name = \"Aira\" )\n",
    "person2 = Admission(\"cool school\", \"Data Engineering\", accept = False, name = \"Gore Bord\" )\n",
    "person1.program, person2.program"
   ]
  },
  {
   "cell_type": "code",
   "execution_count": 12,
   "metadata": {},
   "outputs": [
    {
     "data": {
      "text/plain": [
       "False"
      ]
     },
     "execution_count": 12,
     "metadata": {},
     "output_type": "execute_result"
    }
   ],
   "source": [
    "person1 == person2"
   ]
  },
  {
   "cell_type": "code",
   "execution_count": 14,
   "metadata": {},
   "outputs": [
    {
     "data": {
      "text/plain": [
       "('0x2254ecebc80', '0x2254ed0bd10')"
      ]
     },
     "execution_count": 14,
     "metadata": {},
     "output_type": "execute_result"
    }
   ],
   "source": [
    "# have different id's\n",
    "hex(id(person1)), hex(id(person2))"
   ]
  },
  {
   "cell_type": "markdown",
   "metadata": {},
   "source": [
    "<div style=\"max-width:66ch;\">\n",
    "\n",
    "### Memory address\n",
    " \n",
    "It's useful to be able to check the memory addresses of an instance to get an in depth understanding of what's going on. \n",
    "\n",
    "</div>"
   ]
  },
  {
   "cell_type": "code",
   "execution_count": 3,
   "metadata": {},
   "outputs": [
    {
     "name": "stdout",
     "output_type": "stream",
     "text": [
      "hex(id(person1)) = '0x2254ecea510'\n",
      "hex(id(person2)) = '0x2254eceb4d0'\n",
      "person1 == person2 = False\n",
      "person1 == person1 = True\n"
     ]
    }
   ],
   "source": [
    "# we can see that they point to different memory addresses\n",
    "print(f\"{hex(id(person1)) = }\")\n",
    "print(f\"{hex(id(person2)) = }\")\n",
    "\n",
    "# the reason why we can do equality checking is that Python \n",
    "# by default provides a __eq__ method to each instance \n",
    "# we could overload this operator to e.g. 2 person instances are equal\n",
    "# if their social security number is the same \n",
    "print(f\"{person1 == person2 = }\")\n",
    "print(f\"{person1 == person1 = }\")\n"
   ]
  },
  {
   "cell_type": "markdown",
   "metadata": {},
   "source": [
    "<div style=\"max-width:66ch;\">\n",
    "\n",
    "---\n",
    "\n",
    "## \\_\\_repr\\_\\_ \n",
    "\n",
    "- dunder \"repper\" method for representing the object\n",
    "- write in a way for other developers to see how to create the object if possible\n",
    "\n",
    "In jupyter notebooks the \\_\\_repr\\_\\_ is automatically called when it is the last statement in a cell. However in Python scripts (file ending with .py) this is not the case. Instead it shows when you print the instance, which it also does in jupyter notebook. Important to note though is that \\_\\_str\\_\\_ will be called first if it is implemented else it will call \\_\\_repr\\_\\_ when you try to print an instance. \n",
    "\n",
    "\\_\\_repr\\_\\_ is usually for other developers creating unambiguous string representations for recreating an instance of the class while \\_\\_str\\_\\_ should have more human-readable string representation that is used by built-in str() and print() functions.\n",
    "\n",
    "\n",
    "\n",
    "\n",
    "</div>"
   ]
  },
  {
   "cell_type": "code",
   "execution_count": 4,
   "metadata": {},
   "outputs": [
    {
     "name": "stdout",
     "output_type": "stream",
     "text": [
      "Ada Lovelace has applied to Haskell, accepted: True\n"
     ]
    },
    {
     "data": {
      "text/plain": [
       "Admission(school='Cool school',program='Haskell', name='Ada Lovelace', accept=True)"
      ]
     },
     "execution_count": 4,
     "metadata": {},
     "output_type": "execute_result"
    }
   ],
   "source": [
    "class Admission:  # creates the class\n",
    "    # initializer - runs when instance of the class is created\n",
    "    def __init__(self, school, program, name, accept):\n",
    "        # assign the arguments to object attributes\n",
    "        self.school = school\n",
    "        self.program = program\n",
    "        self.name = name\n",
    "        self.accept = accept\n",
    "\n",
    "    def __str__(self):\n",
    "        return f\"{self.name} has applied to {self.program}, accepted: {self.accept}\"\n",
    "\n",
    "    def __repr__(self):\n",
    "        return f\"Admission(school='{self.school}',program='{self.program}', name='{self.name}', accept={self.accept})\"\n",
    "\n",
    "\n",
    "s = Admission(\"Cool school\", \"Haskell\", \"Ada Lovelace\", True)\n",
    "\n",
    "# we see that __repr__ is used in printing as __str__ is not defined\n",
    "print(s)\n",
    "s"
   ]
  },
  {
   "cell_type": "code",
   "execution_count": null,
   "metadata": {},
   "outputs": [
    {
     "data": {
      "text/plain": [
       "Admission(school='Cool school',program='Java', name='Victor Freeze', accept=True)"
      ]
     },
     "execution_count": 17,
     "metadata": {},
     "output_type": "execute_result"
    }
   ],
   "source": [
    "# video code along my version\n",
    "\n",
    "class Admission:  # creates the class\n",
    "    # initializer - runs when instance of the class is created\n",
    "    def __init__(self, school, program, name, accept):\n",
    "        # assign the arguments to object attributes\n",
    "        self.school = school\n",
    "        self.program = program\n",
    "        self.name = name\n",
    "        self.accept = accept\n",
    "\n",
    "    def __repr__(self):\n",
    "        return f\"Admission(school='{self.school}',program='{self.program}', name='{self.name}', accept={self.accept})\"\n",
    "    \n",
    "\n",
    "# using __repr__ has better results\n",
    "student = Admission(\"Cool school\", \"Java\", \"Victor Freeze\", True)\n",
    "student"
   ]
  },
  {
   "cell_type": "code",
   "execution_count": null,
   "metadata": {},
   "outputs": [
    {
     "name": "stdout",
     "output_type": "stream",
     "text": [
      "Admission(school='Cool school',program='Java', name='Victor Freeze', accept=True)\n"
     ]
    }
   ],
   "source": [
    "print(student)\n",
    "# python looks for __str__, otherwise it looks for __repr__ as a fall back"
   ]
  },
  {
   "cell_type": "code",
   "execution_count": 21,
   "metadata": {},
   "outputs": [
    {
     "data": {
      "text/plain": [
       "Admission(school='Cool school',program='Java', name='Victor Freeze', accept=True)"
      ]
     },
     "execution_count": 21,
     "metadata": {},
     "output_type": "execute_result"
    }
   ],
   "source": [
    "# video code along my version\n",
    "\n",
    "class Admission:  # creates the class\n",
    "    # initializer - runs when instance of the class is created\n",
    "    def __init__(self, school, program, name, accept):\n",
    "        # assign the arguments to object attributes\n",
    "        self.school = school\n",
    "        self.program = program\n",
    "        self.name = name\n",
    "        self.accept = accept\n",
    "\n",
    "    def __repr__(self):\n",
    "        return f\"Admission(school='{self.school}',program='{self.program}', name='{self.name}', accept={self.accept})\"\n",
    "    \n",
    "    def __str__(self):\n",
    "        return f\"{self.name} has applied to {self.program}, accepted: {self.accept}\"\n",
    "\n",
    "    def __repr__(self):\n",
    "        return f\"Admission(school='{self.school}',program='{self.program}', name='{self.name}', accept={self.accept})\"\n",
    "    \n",
    "\n",
    "# using __repr__ has better results\n",
    "student = Admission(\"Cool school\", \"Java\", \"Victor Freeze\", True)\n",
    "student\n"
   ]
  },
  {
   "cell_type": "code",
   "execution_count": 22,
   "metadata": {},
   "outputs": [
    {
     "name": "stdout",
     "output_type": "stream",
     "text": [
      "Victor Freeze has applied to Java, accepted: True\n"
     ]
    }
   ],
   "source": [
    "print(student)"
   ]
  },
  {
   "cell_type": "code",
   "execution_count": null,
   "metadata": {},
   "outputs": [],
   "source": []
  },
  {
   "cell_type": "markdown",
   "metadata": {},
   "source": [
    "<div style=\"background-color: #FFF; color: #212121; border-radius: 1px; width:22ch; box-shadow: rgba(0, 0, 0, 0.16) 0px 1px 4px; display: flex; justify-content: center; align-items: center;\">\n",
    "<div style=\"padding: 1.5em 0; width: 70%;\">\n",
    "    <h2 style=\"font-size: 1.2rem;\">Kokchun Giang</h2>\n",
    "    <a href=\"https://www.linkedin.com/in/kokchungiang/\" target=\"_blank\" style=\"display: flex; align-items: center; gap: .4em; color:#0A66C2;\">\n",
    "        <img src=\"https://content.linkedin.com/content/dam/me/business/en-us/amp/brand-site/v2/bg/LI-Bug.svg.original.svg\" width=\"20\"> \n",
    "        LinkedIn profile\n",
    "    </a>\n",
    "    <a href=\"https://github.com/kokchun/Portfolio-Kokchun-Giang\" target=\"_blank\" style=\"display: flex; align-items: center; gap: .4em; margin: 1em 0; color:#0A66C2;\">\n",
    "        <img src=\"https://github.githubassets.com/images/modules/logos_page/GitHub-Mark.png\" width=\"20\"> \n",
    "        Github portfolio\n",
    "    </a>\n",
    "    <span>AIgineer AB</span>\n",
    "<div>\n",
    "</div>\n"
   ]
  }
 ],
 "metadata": {
  "kernelspec": {
   "display_name": "Python 3",
   "language": "python",
   "name": "python3"
  },
  "language_info": {
   "codemirror_mode": {
    "name": "ipython",
    "version": 3
   },
   "file_extension": ".py",
   "mimetype": "text/x-python",
   "name": "python",
   "nbconvert_exporter": "python",
   "pygments_lexer": "ipython3",
   "version": "3.12.10"
  },
  "orig_nbformat": 4
 },
 "nbformat": 4,
 "nbformat_minor": 2
}
