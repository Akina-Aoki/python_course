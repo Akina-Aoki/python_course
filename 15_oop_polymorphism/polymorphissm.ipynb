{
 "cells": [
  {
   "cell_type": "markdown",
   "id": "d2b6f73d",
   "metadata": {},
   "source": [
    "# Ploymorphism \n",
    "- many shapes\n",
    "- same function name or operator used for different types\n",
    "<br>\n",
    "\n"
   ]
  },
  {
   "cell_type": "markdown",
   "id": "ce9024fa",
   "metadata": {},
   "source": []
  },
  {
   "cell_type": "code",
   "execution_count": 16,
   "id": "66892c26",
   "metadata": {},
   "outputs": [
    {
     "name": "stdout",
     "output_type": "stream",
     "text": [
      "I am a fish, not a Fisky\n",
      "Fish Fisky says blop blop\n",
      "I am a fish, not a Goldy\n",
      "Fish Goldy says blop blop\n",
      "I am a fox, no one knows how I sound.\n"
     ]
    }
   ],
   "source": [
    "class Fish:\n",
    "    def __init__(self, name):\n",
    "        self.name = name\n",
    "\n",
    "    def __str__(self):\n",
    "        return f\"I am a fish, not a {self.name}\"\n",
    "\n",
    "    def speak(self):\n",
    "        print(f\"Fish {self.name} says blop blop\")\n",
    "\n",
    "class Fox:\n",
    "    def __init__(self, name):\n",
    "        self.name = name\n",
    "\n",
    "    def __str__(self):\n",
    "        return f\"I am a fox, no one knows how I sound.\"\n",
    "    \n",
    "    def speak(self):\n",
    "        return NotImplemented\n",
    "\n",
    "    \n",
    "animals = [Fish(\"Fisky\"), Fish(\"Goldy\"), Fox(\"Vivi\")]\n",
    "\n",
    "for animal in animals:\n",
    "    print(animal)\n",
    "    animal.speak()\n",
    "    "
   ]
  },
  {
   "attachments": {
    "image.png": {
     "image/png": "[encoded data removed]"
    }
   },
   "cell_type": "markdown",
   "id": "4848fa51",
   "metadata": {},
   "source": [
    "## Operator Overloading\n",
    "Ability to define and use custom behavior of operators for your objects. This is achieved by implementing dunder or special methods that correspond to that operator.\n",
    "\n",
    "- it gives additional functionality to an operator\n",
    "- e.g. + is overloaded for strings, int, float etc.\n",
    "- Note that there are more operators that can be overloaded than those specified in this list\n",
    "\n",
    "\n",
    "![image.png](attachment:image.png)\n"
   ]
  },
  {
   "cell_type": "markdown",
   "id": "8ff832e1",
   "metadata": {},
   "source": [
    "## Vector"
   ]
  },
  {
   "cell_type": "code",
   "execution_count": 17,
   "id": "d2ea6309",
   "metadata": {},
   "outputs": [
    {
     "name": "stdout",
     "output_type": "stream",
     "text": [
      "<class 'tuple'>\n",
      "(1, 2)\n",
      "<class 'tuple'>\n",
      "('1', 2)\n",
      "value must be number not <class 'str'>\n",
      "<class 'tuple'>\n",
      "()\n",
      "Vector can't be empty\n"
     ]
    }
   ],
   "source": [
    "from util1 import validate_number\n",
    "\n",
    "class Vector:\n",
    "    \"\"\"\n",
    "    A class representing a simple Euclidean vector.\n",
    "\n",
    "    Attributes\n",
    "    ----------\n",
    "    numbers : tuple\n",
    "        The numeric components of the vector.\n",
    "\n",
    "    Methods\n",
    "    -------\n",
    "    numbers\n",
    "        Returns the vector components.\n",
    "    \"\"\"\n",
    "\n",
    "    def __init__(self, *numbers):\n",
    "        \"\"\"\n",
    "        Initialize the Vector object with numeric components.\n",
    "\n",
    "        Parameters\n",
    "        ----------\n",
    "        *numbers : int or float\n",
    "            Variable-length argument list representing the vector components.\n",
    "\n",
    "        Raises\n",
    "        ------\n",
    "        ValueError\n",
    "            If no numbers are provided (empty vector).\n",
    "        TypeError\n",
    "            If any component is not a number.\n",
    "        \"\"\"\n",
    "        # Print debug info (for demonstration only)\n",
    "        print(type(numbers))   # tuple\n",
    "        print(numbers)         # shows all the input numbers\n",
    "\n",
    "        # Validate that every input is a number\n",
    "        for number in numbers:\n",
    "            validate_number(number)\n",
    "\n",
    "        # Ensure the vector is not empty\n",
    "        if len(numbers) <= 0:\n",
    "            raise ValueError(\"Vector can't be empty\")\n",
    "\n",
    "        # Save the numbers as a tuple (immutable)\n",
    "        self._numbers = numbers\n",
    "\n",
    "    @property\n",
    "    def numbers(self):\n",
    "        \"\"\"Return the vector’s numeric components.\"\"\"\n",
    "        return self._numbers\n",
    "\n",
    "\n",
    "# -------------------------------\n",
    "# Manual testing / demonstration\n",
    "# -------------------------------\n",
    "\n",
    "# ✅ Valid vector with two numeric components\n",
    "v1 = Vector(1, 2)\n",
    "\n",
    "# ❌ Invalid vector (string instead of number)\n",
    "try:\n",
    "    v2 = Vector(\"1\", 2)\n",
    "except TypeError as err:\n",
    "    print(err)\n",
    "\n",
    "# ❌ Invalid vector (no numbers provided)\n",
    "try:\n",
    "    v2 = Vector()\n",
    "except ValueError as err:\n",
    "    print(err)\n"
   ]
  },
  {
   "cell_type": "markdown",
   "id": "fd2829d5",
   "metadata": {},
   "source": [
    "## Another Vector Exercise"
   ]
  },
  {
   "cell_type": "markdown",
   "id": "ec7add4f",
   "metadata": {},
   "source": [
    "| Concept               | Meaning                                                      |\n",
    "| --------------------- | ------------------------------------------------------------ |\n",
    "| `*numbers`            | lets you pass any number of arguments (e.g. Vector(1,2,3))   |\n",
    "| `@property`           | makes `numbers` read-only (can be accessed but not modified) |\n",
    "| `__repr__`            | controls how the object prints                               |\n",
    "| `__len__`             | lets you use `len(v3)`                                       |\n",
    "| `__add__`, `__sub__`  | overload `+` and `-` operators                               |\n",
    "| `__getitem__`         | lets you use index/slice like a list                         |\n",
    "| `__mul__`, `__rmul__` | handle scalar multiplication from both sides                 |\n"
   ]
  },
  {
   "cell_type": "code",
   "execution_count": 18,
   "id": "789577f0",
   "metadata": {},
   "outputs": [
    {
     "name": "stdout",
     "output_type": "stream",
     "text": [
      "len(v3) = 2\n",
      "len(v4) = 6\n",
      "v3 = Vector(1, 1)\n",
      "v5 = Vector(2, -1)\n",
      "v5 + v3 = Vector(3, 0)\n",
      "v3 + v5 = Vector(3, 0)\n",
      "v3 - v5 = Vector(-1, 2)\n",
      "v4[-1] = 6\n",
      "v4[2:] = (41, 5, 2, 6)\n",
      "v3 * 5 = Vector(5, 5)\n",
      "Vector(5, 5)\n"
     ]
    }
   ],
   "source": [
    "from numbers import Number\n",
    "\n",
    "def validate_number(value):\n",
    "    \"\"\"Helper function to make sure the input is a number (int or float).\"\"\"\n",
    "    if not isinstance(value, Number):\n",
    "        raise TypeError(f\"value must be a number, not {type(value)}\")\n",
    "\n",
    "\n",
    "class Vector:\n",
    "    \"\"\"\n",
    "    A class representing a Euclidean vector.\n",
    "\n",
    "    A vector is simply a collection of numbers (coordinates), such as (1, 2) or (3, 4, 5),\n",
    "    and supports arithmetic operations like addition, subtraction, and scalar multiplication.\n",
    "\n",
    "    Attributes\n",
    "    ----------\n",
    "    numbers : tuple\n",
    "        A tuple containing all the numeric elements of the vector.\n",
    "\n",
    "    Methods\n",
    "    -------\n",
    "    __len__()        -> allows len(Vector)\n",
    "    __add__()        -> adds two vectors element by element\n",
    "    __sub__()        -> subtracts two vectors element by element\n",
    "    __getitem__()    -> allows index/slice access like Vector[0] or Vector[1:]\n",
    "    __mul__()        -> multiplies vector by a number (scalar)\n",
    "    __rmul__()       -> enables number * vector\n",
    "    \"\"\"\n",
    "\n",
    "    def __init__(self, *numbers):\n",
    "        \"\"\"\n",
    "        Initialize a Vector object with numeric components.\n",
    "\n",
    "        Parameters\n",
    "        ----------\n",
    "        *numbers : int or float\n",
    "            The components of the vector (e.g. Vector(1, 2, 3))\n",
    "\n",
    "        Raises\n",
    "        ------\n",
    "        TypeError\n",
    "            If any of the components is not a number.\n",
    "        ValueError\n",
    "            If no numbers are provided (empty vector).\n",
    "        \"\"\"\n",
    "        # Validation loop\n",
    "        for number in numbers:\n",
    "            validate_number(number)\n",
    "\n",
    "        if len(numbers) <= 0:\n",
    "            raise ValueError(\"Vector can't be empty\")\n",
    "\n",
    "        # Store values as a tuple (immutable)\n",
    "        self._numbers = numbers\n",
    "\n",
    "    # -------------------\n",
    "    #  Read-only property\n",
    "    # -------------------\n",
    "    @property\n",
    "    def numbers(self) -> tuple:\n",
    "        \"\"\"Return the vector’s components as a tuple.\"\"\"\n",
    "        return self._numbers\n",
    "\n",
    "    # -------------------\n",
    "    #  Object display\n",
    "    # -------------------\n",
    "    def __repr__(self):\n",
    "        \"\"\"Return a developer-friendly string representation.\"\"\"\n",
    "        return f\"Vector{self.numbers}\"\n",
    "\n",
    "    # -------------------\n",
    "    #  Operator overloading\n",
    "    # -------------------\n",
    "    def __len__(self) -> int:\n",
    "        \"\"\"Enable len(Vector) to return number of components.\"\"\"\n",
    "        return len(self.numbers)\n",
    "\n",
    "    def __add__(self, other: \"Vector\") -> \"Vector\":\n",
    "        \"\"\"Add two vectors element by element.\"\"\"\n",
    "        # zip pairs up values from both vectors\n",
    "        numbers = (a + b for a, b in zip(self.numbers, other.numbers))\n",
    "        return Vector(*numbers)\n",
    "\n",
    "    def __sub__(self, other: \"Vector\") -> \"Vector\":\n",
    "        \"\"\"Subtract two vectors element by element.\"\"\"\n",
    "        numbers = (a - b for a, b in zip(self.numbers, other.numbers))\n",
    "        return Vector(*numbers)\n",
    "\n",
    "    def __getitem__(self, item: int) -> Number:\n",
    "        \"\"\"Allow indexing or slicing (e.g. v[0] or v[1:]).\"\"\"\n",
    "        return self.numbers[item]\n",
    "\n",
    "    def __mul__(self, number: Number) -> \"Vector\":\n",
    "        \"\"\"Multiply vector by a scalar (e.g. v * 3).\"\"\"\n",
    "        numbers = (number * a for a in self.numbers)\n",
    "        return Vector(*numbers)\n",
    "\n",
    "    def __rmul__(self, number: Number) -> \"Vector\":\n",
    "        \"\"\"Enable scalar multiplication from left side (e.g. 3 * v).\"\"\"\n",
    "        return self * number\n",
    "\n",
    "\n",
    "# -----------------------------\n",
    "#  Example usage and tests\n",
    "# -----------------------------\n",
    "\n",
    "v3 = Vector(1, 1)\n",
    "v4 = Vector(1, 2, 41, 5, 2, 6)\n",
    "v5 = Vector(2, -1)\n",
    "\n",
    "print(f\"{len(v3) = }\")   # → 2\n",
    "print(f\"{len(v4) = }\")   # → 6\n",
    "print(f\"{v3 = }\")        # → Vector(1, 1)\n",
    "print(f\"{v5 = }\")        # → Vector(2, -1)\n",
    "print(f\"{v5 + v3 = }\")   # → Vector(3, 0)\n",
    "print(f\"{v3 + v5 = }\")   # → Vector(3, 0)\n",
    "print(f\"{v3 - v5 = }\")   # → Vector(-1, 2)\n",
    "print(f\"{v4[-1] = }\")    # → last element (6)\n",
    "print(f\"{v4[2:] = }\")    # → slice of vector (41, 5, 2, 6)\n",
    "print(f\"{v3 * 5 = }\")    # → multiply each element by 5\n",
    "print(5 * v3)            # → same result as above because of __rmul__\n"
   ]
  },
  {
   "cell_type": "code",
   "execution_count": 19,
   "id": "64544fbc",
   "metadata": {},
   "outputs": [
    {
     "data": {
      "text/plain": [
       "3"
      ]
     },
     "execution_count": 19,
     "metadata": {},
     "output_type": "execute_result"
    }
   ],
   "source": [
    "\n",
    "l1 = [1,2,3]\n",
    "l1[-1]\n"
   ]
  },
  {
   "cell_type": "code",
   "execution_count": 20,
   "id": "50b86f81",
   "metadata": {},
   "outputs": [
    {
     "data": {
      "text/plain": [
       "Vector(2, 3)"
      ]
     },
     "execution_count": 20,
     "metadata": {},
     "output_type": "execute_result"
    }
   ],
   "source": [
    "\n",
    "v3 + v4"
   ]
  },
  {
   "cell_type": "code",
   "execution_count": 21,
   "id": "daa1d4ce",
   "metadata": {},
   "outputs": [
    {
     "name": "stdout",
     "output_type": "stream",
     "text": [
      "2\n"
     ]
    },
    {
     "data": {
      "text/plain": [
       "(2, 6)"
      ]
     },
     "execution_count": 21,
     "metadata": {},
     "output_type": "execute_result"
    }
   ],
   "source": [
    "\n",
    "print(len([1,2]))\n",
    "\n",
    "len(v3), len(v4)"
   ]
  },
  {
   "cell_type": "code",
   "execution_count": 22,
   "id": "db3879ef",
   "metadata": {},
   "outputs": [
    {
     "name": "stdout",
     "output_type": "stream",
     "text": [
      "1 -1\n",
      "2 -2\n",
      "3 -3\n"
     ]
    }
   ],
   "source": [
    "for a,b in zip((1,2,3), (-1,-2,-3)):\n",
    "    print(a, b)"
   ]
  }
 ],
 "metadata": {
  "kernelspec": {
   "display_name": "python_code_along",
   "language": "python",
   "name": "python3"
  },
  "language_info": {
   "codemirror_mode": {
    "name": "ipython",
    "version": 3
   },
   "file_extension": ".py",
   "mimetype": "text/x-python",
   "name": "python",
   "nbconvert_exporter": "python",
   "pygments_lexer": "ipython3",
   "version": "3.12.10"
  }
 },
 "nbformat": 4,
 "nbformat_minor": 5
}
