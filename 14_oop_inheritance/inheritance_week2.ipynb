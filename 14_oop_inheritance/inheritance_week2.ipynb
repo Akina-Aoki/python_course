{
 "cells": [
  {
   "cell_type": "markdown",
   "id": "21112f27",
   "metadata": {},
   "source": [
    "# Inheritance: week 2 - class code along\n"
   ]
  },
  {
   "cell_type": "markdown",
   "id": "052e85e7",
   "metadata": {},
   "source": []
  }
 ],
 "metadata": {
  "kernelspec": {
   "display_name": "Python 3",
   "language": "python",
   "name": "python3"
  },
  "language_info": {
   "name": "python",
   "version": "3.12.10"
  }
 },
 "nbformat": 4,
 "nbformat_minor": 5
}
