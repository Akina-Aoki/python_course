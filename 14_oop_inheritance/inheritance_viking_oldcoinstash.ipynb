{
 "cells": [
  {
   "cell_type": "markdown",
   "metadata": {},
   "source": [
    "<div style=\"max-width:66ch;\">\n",
    "\n",
    "# Lecture notes - OOP inheritance \n",
    "\n",
    "This is a lecture note for **python summary**. It contains\n",
    "\n",
    "- inheritance\n",
    "- ...\n",
    "\n",
    "Note that this is an introduction to the subject, you are encouraged to read further. We will only cover enough fundamental parts that will be useful for this course and the next. \n",
    "\n",
    "---\n",
    "\n",
    "</div>\n"
   ]
  },
  {
   "cell_type": "markdown",
   "metadata": {},
   "source": [
    "<div style=\"max-width:66ch;\">\n",
    "\n",
    "## Inheritance and composition\n",
    "\n",
    " Inheritance is a mechanism that allows a new class (subclass, derived or child class) to inherit attributes and behaviors (methods) from an existing class (superclass or base class). Inheritance promotes code reuse and establishes a hierarchical relationship between classes.\n",
    "\n",
    "- attributes from parent class are inherited to the child class and can be accessed directly\n",
    "- methods can be overridden in the child class\n",
    "- child class can extend functionality of the parent class \n",
    "- parent class should be more general and child classes more specific \n",
    "\n",
    "- inheritance has stronger coupling between classes and the relation: \"is a\", e.g. a Student is a Person\n",
    "- when changing in the parent class, it might affect the subclasses\n",
    "- **when using inheritance, make sure that the relationship really is an \"is a\" relation and not a \"has a\"**\n",
    "\n",
    "Composition is a design concept to create more complex classes from combining simpler components. This also promotes code reusability. \n",
    "- composition has weaker coupling between classes and the relation: \"has a\", e.g. a Classroom have instances of Student, Clock, Chalkboard, Projector, Table \n",
    "\n",
    "\n",
    "\n",
    "</div>"
   ]
  },
  {
   "cell_type": "code",
   "execution_count": 10,
   "metadata": {},
   "outputs": [
    {
     "name": "stdout",
     "output_type": "stream",
     "text": [
      "The value bjorn 42 is not a valid name\n",
      "OldCoinStash(owner='Ragnar Lothbroke')\n",
      "Coins in stash: 0 riksdaler, 0 skilling\n",
      "Person Örjan  says hi\n",
      "Student Åke Olofsson knows Python\n",
      "Person Ragnar Lothbroke says hi\n"
     ]
    }
   ],
   "source": [
    "from oldcoins import OldCoinsStash\n",
    "import re\n",
    "\n",
    "\n",
    "class Person:\n",
    "    \"\"\"Base class containing generic methods that are shared by all subclasses\"\"\"\n",
    "\n",
    "    def __init__(self, name: str, age: int) -> None:\n",
    "        self.age = age\n",
    "        self.name = name\n",
    "\n",
    "    @property\n",
    "    def age(self) -> int:\n",
    "        return self._age\n",
    "\n",
    "    @age.setter\n",
    "    def age(self, value: int) -> None:\n",
    "        if not isinstance(value, (int, float)):\n",
    "            raise TypeError(f\"Age must be int or float not {type(value)}\")\n",
    "        self._age = value\n",
    "\n",
    "    @property\n",
    "    def name(self) -> str:\n",
    "        return self._name\n",
    "\n",
    "    @name.setter\n",
    "    def name(self, value: str) -> None:\n",
    "        if re.search(r\"^[A-ö]+(\\s[A-ö]+)?$\", value.strip()) is None:\n",
    "            raise ValueError(f\"The value {value} is not a valid name\")\n",
    "\n",
    "        self._name = value\n",
    "\n",
    "    def say_hi(self) -> None:\n",
    "        print(f\"Person {self.name} says hi\")\n",
    "\n",
    "\n",
    "class Student(Person):\n",
    "    \"\"\"A Student is a Person that knows a language\"\"\"\n",
    "\n",
    "    def __init__(self, name: str, age: int, language: str) -> None:\n",
    "        # self is injected through super()\n",
    "        # super() is used for calling the parent class method, this is delegation to parent\n",
    "        super().__init__(name, age)\n",
    "        self.language = language\n",
    "\n",
    "    # overrides say_hi() in Person class\n",
    "    def say_hi(self) -> None:\n",
    "        print(f\"Student {self.name} knows {self.language}\")\n",
    "\n",
    "\n",
    "class Viking(Person):\n",
    "    \"\"\"A Viking has an OldCoinsStash but is a Person\"\"\"\n",
    "\n",
    "    def __init__(self, name: str, age: int) -> None:\n",
    "        super().__init__(name, age)\n",
    "        # composition - has a relation\n",
    "        self.stash = OldCoinsStash(name)\n",
    "\n",
    "\n",
    "p1 = Person(\"Örjan \", 55)\n",
    "s1 = Student(\"Åke Olofsson\", 25, \"Python\")\n",
    "v1 = Viking(\"Ragnar Lothbroke\", 50)\n",
    "\n",
    "\n",
    "try:\n",
    "    v2 = Viking(\"bjorn 42\", 42)\n",
    "except ValueError as err:\n",
    "    print(err)\n",
    "\n",
    "print(v1.stash)\n",
    "print(v1.stash.check_balance())\n",
    "\n",
    "people = (p1, s1, v1)\n",
    "\n",
    "# polymorphic\n",
    "for person in people:\n",
    "    person.say_hi()\n",
    "\n",
    "# note that the Viking does not have a say_hi() method and thus the parents say_hi() is called"
   ]
  },
  {
   "cell_type": "markdown",
   "metadata": {},
   "source": [
    "## My video code along with comments"
   ]
  },
  {
   "cell_type": "markdown",
   "metadata": {},
   "source": [
    "### 🧩 Code Flow Explained — Person, Student, Viking Classes\n",
    "\n",
    "This code demonstrates Object-Oriented Programming (OOP) in Python using three connected classes:\n",
    "Person, Student, and Viking.\n",
    "\n",
    "It also uses a fourth external class called OldCoinsStash (imported from another file), which represents a Viking’s treasure.\n"
   ]
  },
  {
   "cell_type": "markdown",
   "metadata": {},
   "source": [
    "#### 🏗 Step 1. Importing Modules\n",
    "from oldcoins import OldCoinsStash<br>\n",
    "import re"
   ]
  },
  {
   "cell_type": "markdown",
   "metadata": {},
   "source": [
    "#### 👤 Step 2. The Person Class\n",
    "What it does:\n",
    "\n",
    "- Acts as the base (parent) class.\n",
    "\n",
    "- Defines the common features (attributes + methods) that all people share.\n",
    "\n",
    "Inside `Person`:\n",
    "\n",
    "1. `__init__` method → runs automatically when you create a Person.\n",
    "\n",
    "- Stores name and age.\n",
    "\n",
    "- Uses property setters to validate them before saving.\n",
    "\n",
    "Property: `age`\n",
    "\n",
    "- Makes sure age is a number (int or float).\n",
    "\n",
    "- Protects the real variable _age from direct access.\n",
    "\n",
    "Property: `name`\n",
    "\n",
    "- Uses regex to make sure the name only has letters and spaces.\n",
    "\n",
    "- Example of encapsulation — validation is hidden from the user.\n",
    "\n",
    "Method: `say_hi()`\n",
    "\n",
    "- Prints a simple greeting with the person’s name."
   ]
  },
  {
   "cell_type": "code",
   "execution_count": null,
   "metadata": {},
   "outputs": [],
   "source": [
    "from oldcoins import OldCoinsStash   # import a class that manages old coins (used later for Viking's stash)\n",
    "import re                            # regex module for validating names\n",
    "\n",
    "\n",
    "# ------------------ BASE CLASS ------------------\n",
    "\n",
    "class Person:\n",
    "    \"\"\"Base class containing generic methods that are shared by all subclasses\"\"\"\n",
    "\n",
    "    def __init__(self, name: str, age: int) -> None:\n",
    "        \"\"\"\n",
    "        Constructor for Person objects.\n",
    "        Called automatically when creating a new Person.\n",
    "        \"\"\"\n",
    "        self.age = age      # triggers the age.setter (below)\n",
    "        self.name = name    # triggers the name.setter (below)\n",
    "\n",
    "    # ------------------ AGE PROPERTY ------------------\n",
    "\n",
    "    @property\n",
    "    def age(self) -> int:\n",
    "        \"\"\"Getter for age. Returns the private variable _age.\"\"\"\n",
    "        print(\"getter run\")\n",
    "        return self._age\n",
    "\n",
    "    @age.setter\n",
    "    def age(self, value: int) -> None:\n",
    "        print(\"setter run\")\n",
    "        \"\"\"\n",
    "        Setter for age. Ensures the value is numeric (int or float).\n",
    "        Demonstrates encapsulation and validation.\n",
    "        \"\"\"\n",
    "        \n",
    "        # control over age\n",
    "        if not isinstance(value, (int, float)):\n",
    "            raise TypeError(f\"Age must be int or float not {type(value)}\")\n",
    "        \n",
    "        if not 0 < value < 125:\n",
    "            raise ValueError(\"Age not valid\")\n",
    "        self._age = value   # sets the private attribute _age\n",
    "\n",
    "    # ------------------ NAME PROPERTY ------------------\n",
    "\n",
    "    @property\n",
    "    def name(self) -> str:\n",
    "        \"\"\"Getter for name. Returns the private variable _name.\"\"\"\n",
    "        return self._name\n",
    "\n",
    "    @name.setter\n",
    "    def name(self, value: str) -> None:\n",
    "        \"\"\"\n",
    "        Setter for name. Uses regular expressions to validate input.\n",
    "        Accepts only alphabetic names (including Swedish characters).\n",
    "        Example of encapsulation + validation logic.\n",
    "        \"\"\"\n",
    "\n",
    "        # regex - makes sure the name has all possible letters and spaces in alphabet\n",
    "        # ^ start, [A-ö]+ = 1+ letters, (\\s[A-ö]+)? = optional second name, $ end\n",
    "        if re.search(r\"^[A-ö]+(\\s[A-ö]+)?$\", value.strip()) is None:\n",
    "            raise ValueError(f\"The value {value} is not a valid name\")\n",
    "\n",
    "        self._name = value   # valid names are stored in _name\n",
    "\n",
    "    # ------------------ GENERIC METHOD ------------------\n",
    "\n",
    "    def say_hi(self) -> None:\n",
    "        \"\"\"Generic method available to all subclasses.\"\"\"\n",
    "        print(f\"Person {self.name} says hi\")\n"
   ]
  },
  {
   "cell_type": "code",
   "execution_count": 12,
   "metadata": {},
   "outputs": [
    {
     "name": "stdout",
     "output_type": "stream",
     "text": [
      "setter run\n",
      "getter run\n"
     ]
    },
    {
     "data": {
      "text/plain": [
       "4"
      ]
     },
     "execution_count": 12,
     "metadata": {},
     "output_type": "execute_result"
    }
   ],
   "source": [
    "person1 = Person(\"Bella\", 4)\n",
    "person1.age"
   ]
  },
  {
   "cell_type": "code",
   "execution_count": 23,
   "metadata": {},
   "outputs": [
    {
     "name": "stdout",
     "output_type": "stream",
     "text": [
      "setter run\n",
      "Person Greta says hi\n"
     ]
    }
   ],
   "source": [
    "person2 = Person(\"Greta\", 20)\n",
    "person2.say_hi()"
   ]
  },
  {
   "cell_type": "markdown",
   "metadata": {},
   "source": [
    "#### 🎓 Step 3. The Student Class\n",
    "\n",
    "What it does:\n",
    "\n",
    "- Inherits from `Person` — meaning it automatically gets `name`, `age`, and `say_hi()`.\n",
    "\n",
    "- Adds a new feature: `language`.\n",
    "\n",
    "Inside Student:\n",
    "\n",
    "1. `__init__` method\n",
    "\n",
    "- Uses `super().__init__(name, age)` to call the parent’s constructor.\n",
    "\n",
    "- Adds a new attribute: `language`\n",
    "\n",
    "2. `say_hi()` override\n",
    "\n",
    "- The student “says hi” in a customized way:"
   ]
  },
  {
   "cell_type": "code",
   "execution_count": 24,
   "metadata": {},
   "outputs": [],
   "source": [
    "# ------------------ SUBCLASS: STUDENT ------------------\n",
    "\n",
    "class Student(Person):\n",
    "    \"\"\"A Student is a Person that knows a programming language.\"\"\"\n",
    "\n",
    "    def __init__(self, name: str, age: int, language: str) -> None:\n",
    "        \"\"\"\n",
    "        Create a Student object.\n",
    "        Uses super() to call the Person constructor for name and age.\n",
    "        Then adds a new attribute 'language' unique to Student.\n",
    "        \"\"\"\n",
    "        super().__init__(name, age)   # delegates initialization to the parent class\n",
    "        self.language = language\n",
    "\n",
    "    # This overrides from parent class - Person.say_hi() — method overriding (polymorphism)\n",
    "    def say_hi(self) -> None:\n",
    "        \"\"\"Specialized behavior for Students.\"\"\"\n",
    "        print(f\"Student {self.name} is {self.age} years old and knows {self.language}\")\n"
   ]
  },
  {
   "cell_type": "code",
   "execution_count": 27,
   "metadata": {},
   "outputs": [
    {
     "name": "stdout",
     "output_type": "stream",
     "text": [
      "setter run\n",
      "getter run\n",
      "Student John is 25 years old and knows Python\n"
     ]
    }
   ],
   "source": [
    "student1 = Student(\"John\", 25, \"Python\")\n",
    "student1.say_hi()"
   ]
  },
  {
   "cell_type": "markdown",
   "metadata": {},
   "source": [
    "#### ⚔️ Step 4. The Viking Class\n",
    "\n",
    "What it does:\n",
    "\n",
    "- Also inherits from Person.\n",
    "\n",
    "- Adds a new object inside it: OldCoinsStash.\n",
    "\n",
    "Inside Viking:\n",
    "\n",
    "!. `__init__ method`\n",
    "\n",
    "- Calls `super().__init__(name, age) for setup.`\n",
    "\n",
    "- Then creates a stash using:\n",
    "\n",
    "`self.stash = OldCoinsStash(name)`\n",
    "**This is composition → a Viking has a stash (uses another class as part of itself).**"
   ]
  },
  {
   "cell_type": "code",
   "execution_count": null,
   "metadata": {},
   "outputs": [],
   "source": [
    "# ------------------ SUBCLASS: VIKING ------------------\n",
    "\n",
    "class Viking(Person):\n",
    "    \"\"\"A Viking is a Person who also owns an OldCoinsStash (composition example).\"\"\"\n",
    "    # It has a relation (old coin stash)\n",
    "\n",
    "    def __init__(self, name: str, age: int) -> None:\n",
    "        \"\"\"\n",
    "        Create a Viking object.\n",
    "        Calls the Person constructor for name and age.\n",
    "        Then adds a new attribute 'stash' from another class (OldCoinsStash).\n",
    "        \"\"\"\n",
    "        super().__init__(name, age)\n",
    "\n",
    "        # Composition: Viking *has a* stash, not *is a* stash.\n",
    "        # This shows object composition — combining classes together.\n",
    "        self.stash = OldCoinsStash(name)\n"
   ]
  },
  {
   "cell_type": "code",
   "execution_count": 28,
   "metadata": {},
   "outputs": [
    {
     "name": "stdout",
     "output_type": "stream",
     "text": [
      "setter run\n",
      "Person Ragnar says hi\n"
     ]
    }
   ],
   "source": [
    "viking1 = Viking(\"Ragnar\", 40)\n",
    "viking1.say_hi()"
   ]
  },
  {
   "cell_type": "code",
   "execution_count": null,
   "metadata": {},
   "outputs": [
    {
     "data": {
      "text/plain": [
       "{'_age': 40, '_name': 'Ragnar', 'stash': OldCoinStash(owner='Ragnar')}"
      ]
     },
     "execution_count": 29,
     "metadata": {},
     "output_type": "execute_result"
    }
   ],
   "source": [
    "viking1.__dict__\n",
    "# property = _age and _name"
   ]
  },
  {
   "cell_type": "markdown",
   "metadata": {},
   "source": [
    "#### 🧍 Step 5. Creating Objects (Instances)\n",
    "\n",
    "Each object is created from its class:\n",
    "\n",
    "p1 → Person\n",
    "\n",
    "s1 → Student\n",
    "\n",
    "v1 → Viking\n",
    "\n",
    "During creation:\n",
    "\n",
    "The constructor `(__init__)` runs automatically.\n",
    "\n",
    "Each class sets up its attributes properly."
   ]
  },
  {
   "cell_type": "code",
   "execution_count": 15,
   "metadata": {},
   "outputs": [
    {
     "name": "stdout",
     "output_type": "stream",
     "text": [
      "setter run\n",
      "setter run\n",
      "setter run\n",
      "setter run\n",
      "The value bjorn 42 is not a valid name\n"
     ]
    }
   ],
   "source": [
    "# ------------------ OBJECT CREATION ------------------\n",
    "\n",
    "p1 = Person(\"Örjan \", 55)                   # Valid Person\n",
    "s1 = Student(\"Åke Olofsson\", 25, \"Python\")  # Student (inherits from Person)\n",
    "v1 = Viking(\"Ragnar Lothbroke\", 50)         # Viking with coin stash\n",
    "\n",
    "# Attempt to create a Viking with an invalid name (numbers not allowed)\n",
    "try:\n",
    "    v2 = Viking(\"bjorn 42\", 42)\n",
    "except ValueError as err:\n",
    "    print(err)  # prints validation error from the name setter\n"
   ]
  },
  {
   "cell_type": "code",
   "execution_count": 16,
   "metadata": {},
   "outputs": [
    {
     "name": "stdout",
     "output_type": "stream",
     "text": [
      "OldCoinStash(owner='Ragnar Lothbroke')\n",
      "Coins in stash: 0 riksdaler, 0 skilling\n"
     ]
    }
   ],
   "source": [
    "# Check Viking’s stash (composition example)\n",
    "print(v1.stash)                # prints info about the stash (from OldCoinsStash class)\n",
    "print(v1.stash.check_balance()) # calls a method from OldCoinsStash\n"
   ]
  },
  {
   "cell_type": "markdown",
   "metadata": {},
   "source": [
    "#### 🚫 Step 6. Handling Invalid Input\n",
    "- This tests name validation in the Person class.\n",
    "\n",
    "- The regex finds a number in \"bjorn 42\", so it raises a ValueError.\n",
    "\n",
    "- The error is caught and printed instead of crashing the program."
   ]
  },
  {
   "cell_type": "code",
   "execution_count": 17,
   "metadata": {},
   "outputs": [
    {
     "name": "stdout",
     "output_type": "stream",
     "text": [
      "setter run\n",
      "The value bjorn 42 is not a valid name\n"
     ]
    }
   ],
   "source": [
    "try:\n",
    "    v2 = Viking(\"bjorn 42\", 42)\n",
    "except ValueError as err:\n",
    "    print(err)\n"
   ]
  },
  {
   "cell_type": "markdown",
   "metadata": {},
   "source": [
    "#### 💰 Step 7. Using the Viking’s Stash\n",
    "- Accesses the Viking’s OldCoinsStash object.\n",
    "\n",
    "- Prints information about it and checks its balance.\n",
    "\n",
    "- This shows composition in action — v1 owns a stash object inside it."
   ]
  },
  {
   "cell_type": "code",
   "execution_count": 18,
   "metadata": {},
   "outputs": [
    {
     "name": "stdout",
     "output_type": "stream",
     "text": [
      "OldCoinStash(owner='Ragnar Lothbroke')\n",
      "Coins in stash: 0 riksdaler, 0 skilling\n"
     ]
    }
   ],
   "source": [
    "print(v1.stash)\n",
    "print(v1.stash.check_balance())\n"
   ]
  },
  {
   "cell_type": "markdown",
   "metadata": {},
   "source": [
    "#### 🔁 Step 8. Polymorphism in Action\n",
    "\n",
    "- Loops through all people (Person, Student, Viking).\n",
    "\n",
    "Calls `say_hi()` on each one.\n",
    "\n",
    "- Polymorphism means:\n",
    "\n",
    "Each object responds differently even though they share the same method name.\n",
    "\n",
    "Person → prints “Person ... says hi”\n",
    "\n",
    "Student → prints “Student ... knows Python”\n",
    "\n",
    "Viking → doesn’t override, so it uses the parent’s version."
   ]
  },
  {
   "cell_type": "code",
   "execution_count": 20,
   "metadata": {},
   "outputs": [
    {
     "name": "stdout",
     "output_type": "stream",
     "text": [
      "Person Örjan  says hi\n",
      "Student Åke Olofsson knows Python\n",
      "Person Ragnar Lothbroke says hi\n"
     ]
    }
   ],
   "source": [
    "# ------------------ POLYMORPHISM IN ACTION ------------------\n",
    "\n",
    "people = (p1, s1, v1)\n",
    "\n",
    "# Polymorphism: different objects can respond to the same method name in different ways\n",
    "for person in people:\n",
    "    person.say_hi()\n",
    "\n",
    "# Output:\n",
    "# Person Örjan says hi          → from Person class\n",
    "# Student Åke Olofsson knows Python → from Student class (overridden)\n",
    "# Person Ragnar Lothbroke says hi   → from Viking class (inherits Person.say_hi)\n"
   ]
  },
  {
   "cell_type": "markdown",
   "metadata": {},
   "source": [
    "| Concept               | Meaning                                                  | Example in Code                     |\n",
    "| --------------------- | -------------------------------------------------------- | ----------------------------------- |\n",
    "| **Class**             | Blueprint for creating objects                           | `class Person:`                     |\n",
    "| **Object / Instance** | Actual version of a class                                | `p1 = Person(\"Örjan\", 55)`          |\n",
    "| **Inheritance**       | Subclass reuses parent’s code                            | `Student(Person)`                   |\n",
    "| **Composition**       | Class has another class inside it                        | `self.stash = OldCoinsStash(name)`  |\n",
    "| **Encapsulation**     | Protecting data via getters/setters                      | `@property` and validation          |\n",
    "| **Polymorphism**      | Different classes respond differently to the same method | `say_hi()` in `Person` vs `Student` |\n",
    "| **super()**           | Calls parent’s version of a method                       | `super().__init__(name, age)`       |\n"
   ]
  },
  {
   "cell_type": "markdown",
   "metadata": {},
   "source": []
  }
 ],
 "metadata": {
  "kernelspec": {
   "display_name": "Python 3",
   "language": "python",
   "name": "python3"
  },
  "language_info": {
   "codemirror_mode": {
    "name": "ipython",
    "version": 3
   },
   "file_extension": ".py",
   "mimetype": "text/x-python",
   "name": "python",
   "nbconvert_exporter": "python",
   "pygments_lexer": "ipython3",
   "version": "3.12.10"
  },
  "orig_nbformat": 4
 },
 "nbformat": 4,
 "nbformat_minor": 2
}
