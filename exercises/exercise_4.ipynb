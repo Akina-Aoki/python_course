{
 "cells": [
  {
   "cell_type": "markdown",
   "id": "733d77f0",
   "metadata": {},
   "source": [
    "# Exercise 4"
   ]
  },
  {
   "cell_type": "markdown",
   "id": "e769223e",
   "metadata": {},
   "source": [
    "## 0. Counting words (\\*)\n",
    "\n",
    "Count the number of words in this sentence: \"A picture says more than a thousand words, a matematical formula says more than a thousand pictures.\" (\\*)"
   ]
  },
  {
   "cell_type": "code",
   "execution_count": 1,
   "id": "99a2d9ec",
   "metadata": {},
   "outputs": [
    {
     "name": "stdout",
     "output_type": "stream",
     "text": [
      "17\n"
     ]
    }
   ],
   "source": [
    "sentence = \"A picture says more than a thousand words, a matematical formula says more than a thousand pictures.\"\n",
    "word_count = len(sentence.split())\n",
    "print(word_count)"
   ]
  },
  {
   "cell_type": "markdown",
   "id": "81bf32d8",
   "metadata": {},
   "source": []
  },
  {
   "cell_type": "markdown",
   "id": "a877b16a",
   "metadata": {},
   "source": [
    "\n",
    "## 01\n",
    "Let the user input a word:\n",
    "\n",
    "a) print out the number of letters in the word. (\\*)\n",
    "\n",
    "b) print out the number of **uppercase** and **lowercase** letters of the word (\\*)"
   ]
  },
  {
   "cell_type": "code",
   "execution_count": 3,
   "id": "06abb0e7",
   "metadata": {},
   "outputs": [
    {
     "name": "stdout",
     "output_type": "stream",
     "text": [
      "Number of words:8, uppercase number:0, lowercase number:8\n"
     ]
    }
   ],
   "source": [
    "word = input(\"Type your word here: \")\n",
    "length = len(word)\n",
    "\n",
    "uppercase = 0\n",
    "lowercase = 0\n",
    "\n",
    "for i in word:\n",
    "    if i.isupper():\n",
    "        uppercase += 1\n",
    "    elif i.lower():\n",
    "        lowercase += 1\n",
    "print(f'Number of words:{length}, uppercase number:{uppercase}, lowercase number:{lowercase}')\n"
   ]
  },
  {
   "cell_type": "markdown",
   "id": "6fc8645a",
   "metadata": {},
   "source": [
    "## 2. Palindrome (\\*)\n",
    "\n",
    "A palindrome is a sequence of characters that is the same, when read forward as backwards (ignoring spaces). For example:\n",
    "\n",
    "- \"Anna\" is a palindrome\n",
    "- \"Ni talar bra latin\"\n",
    "- bjkjb\n",
    "\n",
    "Here is a flowchart of the algorithm."
   ]
  },
  {
   "cell_type": "code",
   "execution_count": 4,
   "id": "9b0ba508",
   "metadata": {},
   "outputs": [
    {
     "name": "stdout",
     "output_type": "stream",
     "text": [
      "Palindrom\n"
     ]
    }
   ],
   "source": [
    "text = input(\"Write your sentence here: \")\n",
    "\n",
    "# remove spaces and convert to lowercase\n",
    "clean_text = text.replace(\" \",\"\").lower()\n",
    "\n",
    "#check of the text is the same forwards or backwards\n",
    "if clean_text == clean_text[::-1]:\n",
    "    print(\"Palindrom\")\n",
    "else:\n",
    "    print(\"Not Palindrom\")"
   ]
  },
  {
   "cell_type": "markdown",
   "id": "4d81a329",
   "metadata": {},
   "source": [
    "## 3. Vowels (\\*\\*)\n",
    "\n",
    "Count the number of vowels in this sentence: \"Pure mathematics is, in its way, the poetry of logical ideas\""
   ]
  },
  {
   "cell_type": "code",
   "execution_count": null,
   "id": "7302b6d3",
   "metadata": {},
   "outputs": [
    {
     "name": "stdout",
     "output_type": "stream",
     "text": [
      "33\n"
     ]
    }
   ],
   "source": [
    "text1 = \"Pure mathematics is, in its way, the poetry of logical ideas\"\n",
    "import re\n",
    "find_vowels = re.findall(r'[aeiouAEIOU]', sentence)\n",
    "print(len(find_vowels))"
   ]
  },
  {
   "cell_type": "code",
   "execution_count": 6,
   "id": "2c8ebd1a",
   "metadata": {},
   "outputs": [
    {
     "name": "stdout",
     "output_type": "stream",
     "text": [
      "20\n"
     ]
    }
   ],
   "source": [
    "text2 = \"Pure mathematics is, in its way, the poetry of logical ideas\"\n",
    "\n",
    "vowels = \"aeiouAEIOU\"\n",
    "count2 = sum(1 for x in text2 if x in vowels)\n",
    "print(count2)"
   ]
  },
  {
   "cell_type": "markdown",
   "id": "1d54fcf6",
   "metadata": {},
   "source": [
    "\n",
    "## 4. Encryption (\\*\\*)\n",
    "\n",
    "Let the user input a word and:\n",
    "\n",
    "&nbsp; a) &nbsp; encrypt the message by replacing each letter with the next letter. If the letter is in the end of the alphabet, use the first letter instead.\n",
    "\n",
    "e.g. in Swedish: \"höst\" $\\rightarrow$ \"iatu\""
   ]
  },
  {
   "cell_type": "code",
   "execution_count": null,
   "id": "370af191",
   "metadata": {},
   "outputs": [
    {
     "name": "stdout",
     "output_type": "stream",
     "text": [
      "Encrypted message: boob\n"
     ]
    }
   ],
   "source": [
    "# Caesar cypher style\n",
    "\n",
    "text3 = input(\"Your message here: \")\n",
    "\n",
    "encrypt = \"\"\n",
    "\n",
    "for char in text:\n",
    "    # handle lowercase letters\n",
    "    if 'a' <= char <= 'z':\n",
    "        # if letter is 'z', wrap to 'a'\n",
    "        if char == 'z':\n",
    "            encrypt += 'a'\n",
    "        # otherwise, shift the letter to the next one in the alphabet\n",
    "        else:\n",
    "            encrypt += chr(ord(char) + 1 )\n",
    "    \n",
    "    # handle uppercase letters\n",
    "    elif 'A' <= char <= 'Z':\n",
    "        if char == 'Z':\n",
    "            encrypt += 'A'\n",
    "        else:\n",
    "            encrypt += chr(ord(char) + 1 )\n",
    "    # handle non alplabetic characters\n",
    "    else:\n",
    "        # keep it unchanged\n",
    "        encrypt += char\n",
    "    \n",
    "print(f\"Encrypted message: {encrypt}\")"
   ]
  },
  {
   "cell_type": "markdown",
   "id": "6576dbde",
   "metadata": {},
   "source": [
    "## 5. Find and fix errors (\\*)\n",
    "\n",
    "Find the errors in this code to compute the distance between the point $(x,y)$ and the origin in a cartesian coordinate system.\n",
    "\n",
    "```python\n",
    "impor numpy as np"
   ]
  },
  {
   "cell_type": "code",
   "execution_count": null,
   "id": "8aacc9bc",
   "metadata": {},
   "outputs": [],
   "source": [
    "# several syntax and logic errors\n",
    "'''\n",
    "import numpy as np\n",
    "\n",
    "def distance(x, y):\n",
    "    return np.sqrt(x**2 + y**2)\n",
    "print(distance(0.5,l 0.5))\n",
    "'''"
   ]
  },
  {
   "cell_type": "code",
   "execution_count": 10,
   "id": "cc53b915",
   "metadata": {},
   "outputs": [
    {
     "name": "stdout",
     "output_type": "stream",
     "text": [
      "231 is not four-digit\n",
      "3124 is four-digit\n",
      "-4124 is four-digit\n",
      "-1000 is four-digit\n",
      "-999 is not four-digit\n",
      "1001 is four-digit\n",
      "10000 is not four-digit\n",
      "-10000 is not four-digit\n",
      "999 is not four-digit\n"
     ]
    }
   ],
   "source": [
    "## 6. Find and fix errors (\\*)\n",
    "# Find the errors in this code. Just change the function, don't touch the test program.\n",
    "\n",
    "\n",
    "\n",
    "def is_fourdigit(number):\n",
    "\n",
    "    # use absolute value to handle negative numbers\n",
    "    number = abs(number)\n",
    "    if 1000 <= number <= 9999:\n",
    "        return True\n",
    "    else:\n",
    "        return False\n",
    "\n",
    "# test program\n",
    "test_numbers = [231, 3124, -4124, -1000,-999, 1001, 10000, -10000, 999]\n",
    "\n",
    "for number in test_numbers:\n",
    "    if is_fourdigit(number):\n",
    "        print(f\"{number} is four-digit\")\n",
    "    else:\n",
    "        print(f\"{number} is not four-digit\")\n"
   ]
  },
  {
   "cell_type": "markdown",
   "id": "ba1a5ee6",
   "metadata": {},
   "source": [
    "## 7. Tram (\\*)\n",
    "\n",
    "Kokchun is a **clumpsy** computer user that doesn't take trams too often. Write a program to prompt the user for:\n",
    "\n",
    "- number of times he/she wants to take tram in one month\n",
    "- cost for one ticket\n",
    "- cost for monthly card\n",
    "\n",
    "The program should calculate if it's worth for him to buy monthly card or not. Make the program user friendly with clear error messages and ask again in case of input errors.\n"
   ]
  },
  {
   "cell_type": "code",
   "execution_count": 11,
   "id": "c4d3af2d",
   "metadata": {},
   "outputs": [
    {
     "name": "stdout",
     "output_type": "stream",
     "text": [
      "Total cost of buying only single tickets in 1 month is 1350.0\n",
      "Total cost of buying 1 month ticket is 1100.0\n",
      "Good deal\n"
     ]
    }
   ],
   "source": [
    "# Tram cost calculator\n",
    "# Determines whether it's cheaper to buy monthly card or single tickets\n",
    "\n",
    "while True:\n",
    "    try:\n",
    "        # plans to take tram trips in a month\n",
    "        trips = float(input(\"How many times do you plan to travel by tram in 1 month? \"))\n",
    "        # single ticket cost\n",
    "        single_ticket_cost = float(input(\"How much does a single ticket cost in SEK? \"))\n",
    "        # monthly card cost\n",
    "        monthly_ticket_cost = float(input(\"How much is the monthly ticket cost in SEK? \"))\n",
    "\n",
    "        # calculate total cost of buying only single tickets in 1 month\n",
    "        total_cost = trips*single_ticket_cost\n",
    "        print(f'Total cost of buying only single tickets in 1 month is {total_cost}')\n",
    "        print(f'Total cost of buying 1 month ticket is {monthly_ticket_cost}')\n",
    "\n",
    "        # compare 2 options\n",
    "        if total_cost > monthly_ticket_cost:\n",
    "            print(\"Good deal\")\n",
    "        else:\n",
    "            total_cost < monthly_ticket_cost\n",
    "            print(\"No good deal\")\n",
    "        break\n",
    "\n",
    "    \n",
    "    except ValueError:\n",
    "        # handle non-numeric output\n",
    "        print(\"Invalid input. Please put a number: \")"
   ]
  },
  {
   "cell_type": "markdown",
   "id": "d5047aa4",
   "metadata": {},
   "source": [
    "## 8. Dice rolls (\\*)\n",
    "\n",
    "Create a textfile called **dice_rolls.txt** using Python. Also for each subtask, write adequate headers.\n",
    "\n",
    "&nbsp; a) &nbsp; Simulate 20 dice rolls and write them to your textfile. (\\*)\n",
    "\n",
    "&nbsp; b) &nbsp; Sort the dice rolls from a) and write them to a separate row in the same textfile. (\\*)\n",
    "\n",
    "&nbsp; c) &nbsp; Count the number of fours in the dice rolls and write them to a separate row in the same textfile. (\\*)\n",
    "\n"
   ]
  },
  {
   "cell_type": "code",
   "execution_count": 12,
   "id": "96646c2d",
   "metadata": {},
   "outputs": [],
   "source": [
    "# using random choices\n",
    "\n",
    "import random\n",
    "\n",
    "# create or overwrite the file\n",
    "with open (\"dicerolls.txt\", \"w\") as file:\n",
    "\n",
    "    # a) simulate 20 dice rolls\n",
    "    file.write(\"a) Simulate 20 dice rolls.\\n\")\n",
    "    rolls = random.choices(range(1,7), k = 20)\n",
    "    file.write(f'Dice rolls: {rolls}\\n\\n')\n",
    "\n",
    "    file.write(\"b) Sorted dice rolls\\n\")\n",
    "    file.write(f\"Sorted dice rolls: {sorted(rolls)}\\n\\n\")\n",
    "\n",
    "    file.write(\"c) Counts of number 4: \\n\")\n",
    "    file.write(f\"Number of fours: {rolls.count(4)}\\n\")"
   ]
  },
  {
   "cell_type": "markdown",
   "id": "e1ca4389",
   "metadata": {},
   "source": [
    "## 9. Test results (\\*)\n",
    "\n",
    "Read in the file test_result.txt (located in the data folder of this repo) in Python.\n",
    "\n",
    "[test_result]: https://github.com/kokchun/Programmering-med-Python-21/blob/main/Files/test_result.txt\n",
    "\n",
    "&nbsp; a) &nbsp; Print out the text in the terminal (\\*)\n",
    "\n",
    "&nbsp; b) &nbsp; Create new rows in the same file and write the people and their corresponding scores in alphabetical order. (\\*)\n",
    "\n",
    "&nbsp; c) &nbsp; Create additional rows in the same file and sort the people after their grades. The grade limits are: (\\*\\*)"
   ]
  },
  {
   "cell_type": "markdown",
   "id": "c0acdae2",
   "metadata": {},
   "source": [
    "## 11. Dice roll experiment (**)\n",
    "Simulate 10, 100, 1000, 10000, 100000 dice rolls and count the freqencies and probabilities for each number in each simulation. Create a new text file using Python with the name \"simulation.txt\" and write the results to that text file."
   ]
  },
  {
   "cell_type": "code",
   "execution_count": 7,
   "id": "bad4d6e0",
   "metadata": {},
   "outputs": [
    {
     "name": "stdout",
     "output_type": "stream",
     "text": [
      "✅ Dice roll simulations written to 'simulation.txt' successfully!\n"
     ]
    }
   ],
   "source": [
    "import random\n",
    "\n",
    "# Different simulation sizes\n",
    "roll_counts = [10, 100, 1000, 10000, 100000]\n",
    "\n",
    "# Create and open a new text file to store results\n",
    "with open(\"simulation.txt\", \"w\") as file:\n",
    "\n",
    "    file.write(\" Dice Roll Simulation Results \\n\\n\")\n",
    "\n",
    "    # Loop through each simulation amount\n",
    "    for n in roll_counts:\n",
    "        file.write(f\"Simulation with {n} rolls:\\n\")\n",
    "        file.write(f\"{'Number':>7} | {'Frequency':>10} | {'Probability':>12}\\n\")\n",
    "        file.write(\"-\" * 37 + \"\\n\")\n",
    "\n",
    "        # Create an empty list to store all rolls\n",
    "        rolls = []\n",
    "\n",
    "        # Roll the dice n times and store results\n",
    "        for i in range(n):\n",
    "            roll = random.randint(1, 6)\n",
    "            rolls.append(roll)\n",
    "\n",
    "        # Create a dictionary to store frequencies\n",
    "        frequencies = {}\n",
    "\n",
    "        # Count how many times each number appears\n",
    "        for number in range(1, 7):\n",
    "            count = rolls.count(number)\n",
    "            frequencies[number] = count\n",
    "\n",
    "        # Calculate and write probabilities\n",
    "        for number in range(1, 7):\n",
    "            frequency = frequencies[number]\n",
    "            probability = frequency / n\n",
    "            file.write(f\"{number:>7} | {frequency:>10} | {probability:>12.4f}\\n\")\n",
    "\n",
    "        file.write(\"\\n\")  # Blank line between simulations\n",
    "\n",
    "print(\"✅ Dice roll simulations written to 'simulation.txt' successfully!\")\n"
   ]
  },
  {
   "cell_type": "markdown",
   "id": "1bc84f1a",
   "metadata": {},
   "source": []
  },
  {
   "cell_type": "markdown",
   "id": "78851cac",
   "metadata": {},
   "source": [
    "## 12. Theory\n",
    "a) Explain the difference between str.upper(), str.lower(), and str.title(). <br>\n",
    "<br>\n",
    "str.upper() -  converts all letters to upper case <br>\n",
    "str.lower() -  converts all letters to lower case <br>\n",
    "str.title() - capitalizes the first letter of every word <br>\n",
    "<br>\n",
    "<br>\n",
    "b) What is the result of \"abc\"[1:3]? How does slicing work with strings?\n",
    "<br>\n",
    "\"bc\"\n",
    "<br>\n",
    "<br>\n",
    "c) Why are strings considered sequences in Python?<br>\n",
    "because you can index, iterate and slice\n",
    "<br>\n",
    "<br>\n",
    "d) What is the use of escape characters in strings? Give an example.\n",
    "<br>\n",
    "Escape characters lets you include special symbols (like newlines or quotes) inside strings. Example is \"Hello\\nWorld\" -> prints into 2 lines\n",
    "<br>\n",
    "<br>\n",
    "e) Explain how to reverse a string using slicing.\n",
    "<br>\n",
    "text[::-1]\n",
    "<br>\n",
    "<br>\n",
    "f) What is the purpose of a try...except block in Python?\n",
    "<br>\n",
    "handles runtime errors so the program doesnt crash when an error occurs.\n",
    "<br>\n",
    "<br>\n",
    "g) What is the purpose of raise?\n",
    "<br>\n",
    "raise is used to manually trigger an exception, usually to signal an error condition.\n",
    "<br>\n",
    "<br>\n",
    "h) What is the difference between runtime errors and logical errors?\n",
    "<br>\n",
    "Runtime errors: Occur while the program is running.<br>\n",
    "Logical errors: The program runs but gives wrong results due to bad logic.\n",
    "<br>\n",
    "<br>\n",
    "i) What does the with open(...) as f: syntax do, and why is it recommended?\n",
    "<br>\n",
    "automatically opens and closes a file SAFELY, even if an error happens.\n",
    "<br>\n",
    "<br>\n",
    "j) Explain the difference between read(), readline(), and readlines().\n",
    "<br>\n",
    "read() - read the entire file as one string.<br>\n",
    "readline() - reads one line at a time<br>\n",
    "readlines() - reads all lines into a list\n",
    "<br>\n",
    "<br>\n",
    "\n",
    "k) Explain the different file modes: 'r', 'w', 'a', 'x', and 'r+'.\n",
    "r - read (file must already exist)<br>\n",
    "w - write (overwrite or create new file)<br>\n",
    "a - append (add to end)<br>\n",
    "x - create new file (error if file already exists)<br>\n",
    "r+ - read and write (file must already exist)<br>"
   ]
  },
  {
   "cell_type": "markdown",
   "id": "2e01f7ad",
   "metadata": {},
   "source": []
  },
  {
   "cell_type": "markdown",
   "id": "90973755",
   "metadata": {},
   "source": [
    "## Glossary\n",
    "\n",
    "| **Terminology**        | **Explanation**                                                                                                       |\n",
    "| ---------------------- | --------------------------------------------------------------------------------------------------------------------- |\n",
    "| **replace**            | String method that replaces parts of a string with another substring. Example: `\"Hello\".replace(\"H\", \"J\") → \"Jello\"`. |\n",
    "| **regular expression** | A pattern used to search or match text using the `re` module (e.g., `r\"\\d+\"` for numbers).                            |\n",
    "| **concatenation**      | Joining strings together with `+`. Example: `\"Hello\" + \" \" + \"World\"`.                                                |\n",
    "| **split**              | Divides a string into a list based on a separator. Example: `\"a,b,c\".split(\",\") → ['a', 'b', 'c']`.                   |\n",
    "| **indexing**           | Accessing a character at a specific position in a sequence. Example: `\"abc\"[1] → 'b'`.                                |\n",
    "| **escape characters**  | Special characters starting with `\\` that represent actions like newline (`\\n`) or tab (`\\t`).                        |\n",
    "| **unicode**            | A global character encoding standard allowing representation of most world characters and symbols.                    |\n",
    "| **exception**          | An error event that disrupts program flow (e.g., `ValueError`, `ZeroDivisionError`).                                  |\n",
    "| **try block**          | Contains code that might cause an error and lets you handle it safely.                                                |\n",
    "| **except block**       | Defines what to do if an exception occurs in the `try` block.                                                         |\n",
    "| **finally block**      | Runs code after `try/except`, no matter what (used for cleanup).                                                      |\n",
    "| **traceback**          | The error message Python prints showing where the exception occurred.                                                 |\n",
    "| **open()**             | Built-in function to open a file for reading or writing. Example: `open(\"file.txt\", \"r\")`.                            |\n",
    "| **with**               | Used with files (and other context managers) to ensure proper setup and cleanup automatically.                        |\n",
    "| **context manager**    | Object that handles resource setup and cleanup automatically, e.g., `with open(...) as f:`.                           |\n",
    "| **close()**            | Method to close a file after use (done automatically when using `with`).                                              |\n"
   ]
  },
  {
   "cell_type": "markdown",
   "id": "a3c43727",
   "metadata": {},
   "source": []
  }
 ],
 "metadata": {
  "kernelspec": {
   "display_name": "Python 3",
   "language": "python",
   "name": "python3"
  },
  "language_info": {
   "codemirror_mode": {
    "name": "ipython",
    "version": 3
   },
   "file_extension": ".py",
   "mimetype": "text/x-python",
   "name": "python",
   "nbconvert_exporter": "python",
   "pygments_lexer": "ipython3",
   "version": "3.12.10"
  }
 },
 "nbformat": 4,
 "nbformat_minor": 5
}
