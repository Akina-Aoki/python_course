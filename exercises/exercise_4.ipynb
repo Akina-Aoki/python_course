{
 "cells": [
  {
   "cell_type": "markdown",
   "id": "733d77f0",
   "metadata": {},
   "source": [
    "# Exercise 4"
   ]
  },
  {
   "cell_type": "markdown",
   "id": "e769223e",
   "metadata": {},
   "source": [
    "## 0. Counting words (\\*)\n",
    "\n",
    "Count the number of words in this sentence: \"A picture says more than a thousand words, a matematical formula says more than a thousand pictures.\" (\\*)"
   ]
  },
  {
   "cell_type": "code",
   "execution_count": 1,
   "id": "99a2d9ec",
   "metadata": {},
   "outputs": [
    {
     "name": "stdout",
     "output_type": "stream",
     "text": [
      "17\n"
     ]
    }
   ],
   "source": [
    "sentence = \"A picture says more than a thousand words, a matematical formula says more than a thousand pictures.\"\n",
    "word_count = len(sentence.split())\n",
    "print(word_count)"
   ]
  },
  {
   "cell_type": "markdown",
   "id": "81bf32d8",
   "metadata": {},
   "source": []
  },
  {
   "cell_type": "markdown",
   "id": "a877b16a",
   "metadata": {},
   "source": [
    "\n",
    "## 01\n",
    "Let the user input a word:\n",
    "\n",
    "a) print out the number of letters in the word. (\\*)\n",
    "\n",
    "b) print out the number of **uppercase** and **lowercase** letters of the word (\\*)"
   ]
  },
  {
   "cell_type": "code",
   "execution_count": 3,
   "id": "06abb0e7",
   "metadata": {},
   "outputs": [
    {
     "name": "stdout",
     "output_type": "stream",
     "text": [
      "Number of words:8, uppercase number:0, lowercase number:8\n"
     ]
    }
   ],
   "source": [
    "word = input(\"Type your word here: \")\n",
    "length = len(word)\n",
    "\n",
    "uppercase = 0\n",
    "lowercase = 0\n",
    "\n",
    "for i in word:\n",
    "    if i.isupper():\n",
    "        uppercase += 1\n",
    "    elif i.lower():\n",
    "        lowercase += 1\n",
    "print(f'Number of words:{length}, uppercase number:{uppercase}, lowercase number:{lowercase}')\n"
   ]
  },
  {
   "cell_type": "markdown",
   "id": "6fc8645a",
   "metadata": {},
   "source": [
    "## 2. Palindrome (\\*)\n",
    "\n",
    "A palindrome is a sequence of characters that is the same, when read forward as backwards (ignoring spaces). For example:\n",
    "\n",
    "- \"Anna\" is a palindrome\n",
    "- \"Ni talar bra latin\"\n",
    "- bjkjb\n",
    "\n",
    "Here is a flowchart of the algorithm."
   ]
  },
  {
   "cell_type": "code",
   "execution_count": 4,
   "id": "9b0ba508",
   "metadata": {},
   "outputs": [
    {
     "name": "stdout",
     "output_type": "stream",
     "text": [
      "Palindrom\n"
     ]
    }
   ],
   "source": [
    "text = input(\"Write your sentence here: \")\n",
    "\n",
    "# remove spaces and convert to lowercase\n",
    "clean_text = text.replace(\" \",\"\").lower()\n",
    "\n",
    "#check of the text is the same forwards or backwards\n",
    "if clean_text == clean_text[::-1]:\n",
    "    print(\"Palindrom\")\n",
    "else:\n",
    "    print(\"Not Palindrom\")"
   ]
  },
  {
   "cell_type": "markdown",
   "id": "4d81a329",
   "metadata": {},
   "source": [
    "## 3. Vowels (\\*\\*)\n",
    "\n",
    "Count the number of vowels in this sentence: \"Pure mathematics is, in its way, the poetry of logical ideas\""
   ]
  },
  {
   "cell_type": "code",
   "execution_count": null,
   "id": "7302b6d3",
   "metadata": {},
   "outputs": [
    {
     "name": "stdout",
     "output_type": "stream",
     "text": [
      "33\n"
     ]
    }
   ],
   "source": [
    "text1 = \"Pure mathematics is, in its way, the poetry of logical ideas\"\n",
    "import re\n",
    "find_vowels = re.findall(r'[aeiouAEIOU]', sentence)\n",
    "print(len(find_vowels))"
   ]
  },
  {
   "cell_type": "code",
   "execution_count": 6,
   "id": "2c8ebd1a",
   "metadata": {},
   "outputs": [
    {
     "name": "stdout",
     "output_type": "stream",
     "text": [
      "20\n"
     ]
    }
   ],
   "source": [
    "text2 = \"Pure mathematics is, in its way, the poetry of logical ideas\"\n",
    "\n",
    "vowels = \"aeiouAEIOU\"\n",
    "count2 = sum(1 for x in text2 if x in vowels)\n",
    "print(count2)"
   ]
  },
  {
   "cell_type": "markdown",
   "id": "1d54fcf6",
   "metadata": {},
   "source": [
    "\n",
    "## 4. Encryption (\\*\\*)\n",
    "\n",
    "Let the user input a word and:\n",
    "\n",
    "&nbsp; a) &nbsp; encrypt the message by replacing each letter with the next letter. If the letter is in the end of the alphabet, use the first letter instead.\n",
    "\n",
    "e.g. in Swedish: \"höst\" $\\rightarrow$ \"iatu\""
   ]
  },
  {
   "cell_type": "code",
   "execution_count": null,
   "id": "370af191",
   "metadata": {},
   "outputs": [
    {
     "name": "stdout",
     "output_type": "stream",
     "text": [
      "Encrypted message: boob\n"
     ]
    }
   ],
   "source": [
    "# Caesar cypher style\n",
    "\n",
    "text3 = input(\"Your message here: \")\n",
    "\n",
    "encrypt = \"\"\n",
    "\n",
    "for char in text:\n",
    "    # handle lowercase letters\n",
    "    if 'a' <= char <= 'z':\n",
    "        # if letter is 'z', wrap to 'a'\n",
    "        if char == 'z':\n",
    "            encrypt += 'a'\n",
    "        # otherwise, shift the letter to the next one in the alphabet\n",
    "        else:\n",
    "            encrypt += chr(ord(char) + 1 )\n",
    "    \n",
    "    # handle uppercase letters\n",
    "    elif 'A' <= char <= 'Z':\n",
    "        if char == 'Z':\n",
    "            encrypt += 'A'\n",
    "        else:\n",
    "            encrypt += chr(ord(char) + 1 )\n",
    "    # handle non alplabetic characters\n",
    "    else:\n",
    "        # keep it unchanged\n",
    "        encrypt += char\n",
    "    \n",
    "print(f\"Encrypted message: {encrypt}\")"
   ]
  },
  {
   "cell_type": "markdown",
   "id": "6576dbde",
   "metadata": {},
   "source": [
    "## 5. Find and fix errors (\\*)\n",
    "\n",
    "Find the errors in this code to compute the distance between the point $(x,y)$ and the origin in a cartesian coordinate system.\n",
    "\n",
    "```python\n",
    "impor numpy as np"
   ]
  },
  {
   "cell_type": "code",
   "execution_count": null,
   "id": "8aacc9bc",
   "metadata": {},
   "outputs": [],
   "source": [
    "# several syntax and logic errors\n",
    "'''\n",
    "import numpy as np\n",
    "\n",
    "def distance(x, y):\n",
    "    return np.sqrt(x**2 + y**2)\n",
    "print(distance(0.5,l 0.5))\n",
    "'''"
   ]
  },
  {
   "cell_type": "code",
   "execution_count": 10,
   "id": "cc53b915",
   "metadata": {},
   "outputs": [
    {
     "name": "stdout",
     "output_type": "stream",
     "text": [
      "231 is not four-digit\n",
      "3124 is four-digit\n",
      "-4124 is four-digit\n",
      "-1000 is four-digit\n",
      "-999 is not four-digit\n",
      "1001 is four-digit\n",
      "10000 is not four-digit\n",
      "-10000 is not four-digit\n",
      "999 is not four-digit\n"
     ]
    }
   ],
   "source": [
    "## 6. Find and fix errors (\\*)\n",
    "# Find the errors in this code. Just change the function, don't touch the test program.\n",
    "\n",
    "\n",
    "\n",
    "def is_fourdigit(number):\n",
    "\n",
    "    # use absolute value to handle negative numbers\n",
    "    number = abs(number)\n",
    "    if 1000 <= number <= 9999:\n",
    "        return True\n",
    "    else:\n",
    "        return False\n",
    "\n",
    "# test program\n",
    "test_numbers = [231, 3124, -4124, -1000,-999, 1001, 10000, -10000, 999]\n",
    "\n",
    "for number in test_numbers:\n",
    "    if is_fourdigit(number):\n",
    "        print(f\"{number} is four-digit\")\n",
    "    else:\n",
    "        print(f\"{number} is not four-digit\")\n"
   ]
  },
  {
   "cell_type": "markdown",
   "id": "ba1a5ee6",
   "metadata": {},
   "source": [
    "## 7. Tram (\\*)\n",
    "\n",
    "Kokchun is a **clumpsy** computer user that doesn't take trams too often. Write a program to prompt the user for:\n",
    "\n",
    "- number of times he/she wants to take tram in one month\n",
    "- cost for one ticket\n",
    "- cost for monthly card\n",
    "\n",
    "The program should calculate if it's worth for him to buy monthly card or not. Make the program user friendly with clear error messages and ask again in case of input errors.\n"
   ]
  },
  {
   "cell_type": "code",
   "execution_count": 11,
   "id": "c4d3af2d",
   "metadata": {},
   "outputs": [
    {
     "name": "stdout",
     "output_type": "stream",
     "text": [
      "Total cost of buying only single tickets in 1 month is 1350.0\n",
      "Total cost of buying 1 month ticket is 1100.0\n",
      "Good deal\n"
     ]
    }
   ],
   "source": [
    "# Tram cost calculator\n",
    "# Determines whether it's cheaper to buy monthly card or single tickets\n",
    "\n",
    "while True:\n",
    "    try:\n",
    "        # plans to take tram trips in a month\n",
    "        trips = float(input(\"How many times do you plan to travel by tram in 1 month? \"))\n",
    "        # single ticket cost\n",
    "        single_ticket_cost = float(input(\"How much does a single ticket cost in SEK? \"))\n",
    "        # monthly card cost\n",
    "        monthly_ticket_cost = float(input(\"How much is the monthly ticket cost in SEK? \"))\n",
    "\n",
    "        # calculate total cost of buying only single tickets in 1 month\n",
    "        total_cost = trips*single_ticket_cost\n",
    "        print(f'Total cost of buying only single tickets in 1 month is {total_cost}')\n",
    "        print(f'Total cost of buying 1 month ticket is {monthly_ticket_cost}')\n",
    "\n",
    "        # compare 2 options\n",
    "        if total_cost > monthly_ticket_cost:\n",
    "            print(\"Good deal\")\n",
    "        else:\n",
    "            total_cost < monthly_ticket_cost\n",
    "            print(\"No good deal\")\n",
    "        break\n",
    "\n",
    "    \n",
    "    except ValueError:\n",
    "        # handle non-numeric output\n",
    "        print(\"Invalid input. Please put a number: \")"
   ]
  },
  {
   "cell_type": "markdown",
   "id": "d5047aa4",
   "metadata": {},
   "source": [
    "## 8. Dice rolls (\\*)\n",
    "\n",
    "Create a textfile called **dice_rolls.txt** using Python. Also for each subtask, write adequate headers.\n",
    "\n",
    "&nbsp; a) &nbsp; Simulate 20 dice rolls and write them to your textfile. (\\*)\n",
    "\n",
    "&nbsp; b) &nbsp; Sort the dice rolls from a) and write them to a separate row in the same textfile. (\\*)\n",
    "\n",
    "&nbsp; c) &nbsp; Count the number of fours in the dice rolls and write them to a separate row in the same textfile. (\\*)\n",
    "\n"
   ]
  },
  {
   "cell_type": "code",
   "execution_count": 12,
   "id": "96646c2d",
   "metadata": {},
   "outputs": [],
   "source": [
    "# using random choices\n",
    "\n",
    "import random\n",
    "\n",
    "# create or overwrite the file\n",
    "with open (\"dicerolls.txt\", \"w\") as file:\n",
    "\n",
    "    # a) simulate 20 dice rolls\n",
    "    file.write(\"a) Simulate 20 dice rolls.\\n\")\n",
    "    rolls = random.choices(range(1,7), k = 20)\n",
    "    file.write(f'Dice rolls: {rolls}\\n\\n')\n",
    "\n",
    "    file.write(\"b) Sorted dice rolls\\n\")\n",
    "    file.write(f\"Sorted dice rolls: {sorted(rolls)}\\n\\n\")\n",
    "\n",
    "    file.write(\"c) Counts of number 4: \\n\")\n",
    "    file.write(f\"Number of fours: {rolls.count(4)}\\n\")"
   ]
  },
  {
   "cell_type": "markdown",
   "id": "e1ca4389",
   "metadata": {},
   "source": [
    "## 9. Test results (\\*)\n",
    "\n",
    "Read in the file test_result.txt (located in the data folder of this repo) in Python.\n",
    "\n",
    "[test_result]: https://github.com/kokchun/Programmering-med-Python-21/blob/main/Files/test_result.txt\n",
    "\n",
    "&nbsp; a) &nbsp; Print out the text in the terminal (\\*)\n",
    "\n",
    "&nbsp; b) &nbsp; Create new rows in the same file and write the people and their corresponding scores in alphabetical order. (\\*)\n",
    "\n",
    "&nbsp; c) &nbsp; Create additional rows in the same file and sort the people after their grades. The grade limits are: (\\*\\*)"
   ]
  },
  {
   "cell_type": "code",
   "execution_count": null,
   "id": "19162822",
   "metadata": {},
   "outputs": [],
   "source": []
  },
  {
   "cell_type": "markdown",
   "id": "1bc84f1a",
   "metadata": {},
   "source": []
  }
 ],
 "metadata": {
  "kernelspec": {
   "display_name": "Python 3",
   "language": "python",
   "name": "python3"
  },
  "language_info": {
   "codemirror_mode": {
    "name": "ipython",
    "version": 3
   },
   "file_extension": ".py",
   "mimetype": "text/x-python",
   "name": "python",
   "nbconvert_exporter": "python",
   "pygments_lexer": "ipython3",
   "version": "3.12.10"
  }
 },
 "nbformat": 4,
 "nbformat_minor": 5
}
