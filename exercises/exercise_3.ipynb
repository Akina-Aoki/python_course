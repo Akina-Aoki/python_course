{
 "cells": [
  {
   "cell_type": "markdown",
   "id": "61267b94",
   "metadata": {},
   "source": [
    "# Exercise 3 - sequences\n",
    "\n",
    "In this exercise, you get to familiarize yourself with sequences in Python.\n",
    "\n",
    "\n",
    "\n",
    "## 0. Dice rolls (\\*)\n",
    "\n",
    "Simulate 10 dice rolls and **append** the rolls to a list. Do this once again but now use **list comprehension** instead to create the list."
   ]
  },
  {
   "cell_type": "markdown",
   "id": "9bb4b9ab",
   "metadata": {},
   "source": []
  },
  {
   "cell_type": "code",
   "execution_count": 5,
   "id": "b83a1c11",
   "metadata": {},
   "outputs": [
    {
     "name": "stdout",
     "output_type": "stream",
     "text": [
      "[0, 1, 2, 3, 4, 5, 6, 7, 8, 9]\n"
     ]
    }
   ],
   "source": [
    "# Logic: No list comprehension (Regular for loop) \n",
    "\n",
    "numbers = []\n",
    "\n",
    "for i in range (10):\n",
    "    numbers.append(i)\n",
    "print(numbers)"
   ]
  },
  {
   "cell_type": "code",
   "execution_count": 6,
   "id": "189d0317",
   "metadata": {},
   "outputs": [
    {
     "name": "stdout",
     "output_type": "stream",
     "text": [
      "[2, 2, 2, 2, 3, 1, 1, 3, 4, 5]\n"
     ]
    }
   ],
   "source": [
    "# randomly throwing dice 10 times\n",
    "import random as rnd\n",
    "\n",
    "# No list comprehension (Regular for loop)\n",
    "\n",
    "rolls = []\n",
    "\n",
    "# 10 dice rolls in range\n",
    "for i in range(10):\n",
    "\n",
    "    # append that number between 1-6 in rolls\n",
    "    rolls.append(rnd.randint(1,6))\n",
    "print (rolls)"
   ]
  },
  {
   "cell_type": "code",
   "execution_count": 7,
   "id": "570460c6",
   "metadata": {},
   "outputs": [
    {
     "name": "stdout",
     "output_type": "stream",
     "text": [
      "[5, 5, 4, 3, 5, 4, 3, 6, 5, 3]\n"
     ]
    }
   ],
   "source": [
    "# randomly throwing dice 10 times\n",
    "# with list comprehension -  shortcut of creating list in ONE LINE\n",
    "\n",
    "rolls = [rnd.randint(1,6) for i in range (10)]\n",
    "print (rolls)"
   ]
  },
  {
   "cell_type": "markdown",
   "id": "d5998982",
   "metadata": {},
   "source": [
    "rnd.randint(1,6)             → makes one random dice roll (a number between 1 and 6).\n",
    "\n",
    "for i in range(10)           → repeat that 10 times.\n",
    "\n",
    "[ ... for i in range(10)]    → put all those results into a list.\n",
    "\n",
    "rolls = ...                  → save the list in the variable rolls.\n",
    "\n",
    "print(rolls)                 → show the list of 10 dice rolls.\n",
    "\n",
    "\n"
   ]
  },
  {
   "cell_type": "code",
   "execution_count": null,
   "id": "8f7040f5",
   "metadata": {},
   "outputs": [],
   "source": []
  },
  {
   "cell_type": "markdown",
   "id": "8e75194c",
   "metadata": {},
   "source": [
    "a) sort the list in **ascending** order (\\*)"
   ]
  },
  {
   "cell_type": "code",
   "execution_count": 15,
   "id": "75143ab3",
   "metadata": {},
   "outputs": [
    {
     "name": "stdout",
     "output_type": "stream",
     "text": [
      "Orginal: [3, 3, 2, 4, 6, 3, 3, 5, 1, 2]\n",
      "Ascend Sorted: [1, 2, 2, 3, 3, 3, 3, 4, 5, 6]\n"
     ]
    }
   ],
   "source": [
    "# randomly throwing dice 10 times\n",
    "# with list comprehension -  shortcut of creating list in ONE LINE\n",
    "\n",
    "rolls = [rnd.randint(1,6) for i in range (10)]\n",
    "\n",
    "print(\"Orginal:\", rolls)\n",
    "\n",
    "rolls.sort()\n",
    "print (\"Ascend Sorted:\", rolls)"
   ]
  },
  {
   "cell_type": "markdown",
   "id": "4bc38cb2",
   "metadata": {},
   "source": [
    "b) sort the list in descending order (*)"
   ]
  },
  {
   "cell_type": "code",
   "execution_count": 16,
   "id": "32631d70",
   "metadata": {},
   "outputs": [
    {
     "name": "stdout",
     "output_type": "stream",
     "text": [
      "Orginal: [2, 5, 5, 4, 4, 2, 3, 6, 3, 2]\n",
      "Descend Sorted: [6, 5, 5, 4, 4, 3, 3, 2, 2, 2]\n"
     ]
    }
   ],
   "source": [
    "# randomly throwing dice 10 times\n",
    "# with list comprehension -  shortcut of creating list in ONE LINE\n",
    "\n",
    "rolls = [rnd.randint(1,6) for i in range (10)]\n",
    "\n",
    "print(\"Orginal:\", rolls)\n",
    "\n",
    "rolls.sort(reverse = True)\n",
    "print (\"Descend Sorted:\", rolls)"
   ]
  },
  {
   "cell_type": "markdown",
   "id": "24fcaeee",
   "metadata": {},
   "source": [
    "c) find the maximum and minimum value in the list (*)"
   ]
  },
  {
   "cell_type": "code",
   "execution_count": 31,
   "id": "cf5a635b",
   "metadata": {},
   "outputs": [
    {
     "name": "stdout",
     "output_type": "stream",
     "text": [
      "Orginal: [3, 2, 1, 3, 1, 5, 4, 2, 5, 1]\n",
      "This is the min 1, this is the max 5.\n"
     ]
    }
   ],
   "source": [
    "rolls = [rnd.randint (1, 6) for i in range (10)]\n",
    "\n",
    "\n",
    "print(\"Orginal:\", rolls)\n",
    "min_rolls = min(rolls)\n",
    "max_rolls = max(rolls)\n",
    "\n",
    "print(f'This is the min {min_rolls}, this is the max {max_rolls}.')"
   ]
  },
  {
   "cell_type": "markdown",
   "id": "04a4f42c",
   "metadata": {},
   "source": [
    "d) calculate the mean (average) of the list (*)"
   ]
  },
  {
   "cell_type": "code",
   "execution_count": 33,
   "id": "713abbe7",
   "metadata": {},
   "outputs": [
    {
     "name": "stdout",
     "output_type": "stream",
     "text": [
      "Orginal: [4, 2, 4, 4, 3, 6, 1, 6, 1, 4]\n",
      "This is the mean 3.5\n"
     ]
    }
   ],
   "source": [
    "import statistics\n",
    "rolls = [rnd.randint (1,6) for i in range (10)]\n",
    "mean_rolls = statistics.mean(rolls)\n",
    "\n",
    "print(\"Orginal:\", rolls)\n",
    "print(f'This is the mean {mean_rolls}')"
   ]
  },
  {
   "cell_type": "markdown",
   "id": "3b1b10f9",
   "metadata": {},
   "source": [
    "e) find the median of the list (*)"
   ]
  },
  {
   "cell_type": "code",
   "execution_count": 36,
   "id": "8c972fb5",
   "metadata": {},
   "outputs": [
    {
     "name": "stdout",
     "output_type": "stream",
     "text": [
      "[1, 4, 8, 3, 6, 7, 8, 6, 9, 7]\n",
      "This is the median 6.5.\n"
     ]
    }
   ],
   "source": [
    "import statistics\n",
    "rolls = [rnd.randint (1, 10) for i in range (10)]\n",
    "median_rolls = statistics.median (rolls)\n",
    "\n",
    "print (rolls)\n",
    "print (f'This is the median {median_rolls}.')\n",
    "\n"
   ]
  },
  {
   "cell_type": "markdown",
   "id": "2e6df376",
   "metadata": {},
   "source": [
    "f) extract only the unique values from the list. The output should be a list (*)"
   ]
  },
  {
   "cell_type": "code",
   "execution_count": 41,
   "id": "1452efd5",
   "metadata": {},
   "outputs": [
    {
     "name": "stdout",
     "output_type": "stream",
     "text": [
      "This is the list [5, 8, 6, 1, 9, 7, 2, 8, 8, 1]\n",
      "These are the [1, 2, 5, 6, 7, 8, 9].\n"
     ]
    }
   ],
   "source": [
    "rolls = [rnd.randint (1, 10) for i in range (10)]\n",
    "unique_values = list(set(rolls))\n",
    "print(f'This is the list {rolls}')\n",
    "print (f'These are the {unique_values}.')"
   ]
  },
  {
   "cell_type": "markdown",
   "id": "1b3b9d86",
   "metadata": {},
   "source": []
  },
  {
   "cell_type": "markdown",
   "id": "2f7a1de9",
   "metadata": {},
   "source": [
    "## 1. Food menu (*)\n",
    "\n",
    "Create a:\n",
    "\n",
    "a) list with the following elements: \"vegetarian lasagna\", \"spaghetti\", \"fish\", \"soup\", \"pancakes\". (*)\n",
    "\n",
    "b) list with the weekdays (*)\n",
    "\n",
    "c) create a food menu with each day corresponding to each food item and print it out like this (*)"
   ]
  },
  {
   "cell_type": "code",
   "execution_count": null,
   "id": "373150f7",
   "metadata": {},
   "outputs": [
    {
     "name": "stdout",
     "output_type": "stream",
     "text": [
      "Food                   Day\n",
      "----------------------------\n",
      "vegetarian lasagna   Monday\n",
      "spaghetti            Tuesday\n",
      "fish                 Wednesday\n",
      "soup                 Thursday\n",
      "pancakes             Friday\n"
     ]
    }
   ],
   "source": [
    "food = [\"vegetarian lasagna\", \"spaghetti\", \"fish\", \"soup\", \"pancakes\"]\n",
    "day = [\"Monday\", \"Tuesday\", \"Wednesday\", \"Thursday\", \"Friday\"]\n",
    "\n",
    "print(\"Food                   Day\")\n",
    "print(\"----------------------------\")\n",
    "\n",
    "\n",
    "# len() gives the length of the list, which is 5\n",
    "# loop will set i to 0, 1, 2, 3, 4\n",
    "for i in range (len(day)):\n",
    "    print(f'{food [i]:20} {day[i]}')\n",
    "\n",
    "# when i = 0 ---> day[0] = \"Monday\", food[0] = \"vegetarian lasagna\"\n",
    "# i is and index (position in the list)\n",
    "# can get the matching food and matching dat using the same index\n",
    "# 20 is the number of spaces between food and day\n"
   ]
  },
  {
   "cell_type": "markdown",
   "id": "1a9e6539",
   "metadata": {},
   "source": []
  },
  {
   "cell_type": "markdown",
   "id": "2ff23fc9",
   "metadata": {},
   "source": [
    "## 2. Squares (*)\n",
    "\n",
    "a) Use list comprehension to create a list of squares from -10 to 10 (*)\n",
    "\n",
    "b) Plot this list using matplotlib. (*)"
   ]
  },
  {
   "cell_type": "markdown",
   "id": "c40f7a1b",
   "metadata": {},
   "source": []
  },
  {
   "cell_type": "markdown",
   "id": "47b5a3f7",
   "metadata": {},
   "source": [
    "## 3. Chessboard (**)\n",
    "\n",
    "a) Create this list using list comprehension: (*)\n",
    "\n",
    "['A1', 'B1', 'C1', 'D1', 'E1', 'F1', 'G1', 'H1']\n",
    "\n",
    "\n",
    "\n",
    "b) Create a 2D list to hold the coordinates in a chessboard like this (**)\n",
    "\n",
    "[[A1, B1, C1, D1, E1, F1, G1, H1],\n",
    " [A2, B2, C2, D2, E2, F2, G2, H2],\n",
    " [A3, B3, C3, D3, E3, F3, G3, H3],\n",
    " [A4, B4, C4, D4, E4, F4, G4, H4],\n",
    " [A5, B5, C5, D5, E5, F5, G5, H5],\n",
    " [A6, B6, C6, D6, E6, F6, G6, H6],\n",
    " [A7, B7, C7, D7, E7, F7, G7, H7],\n",
    " [A8, B8, C8, D8, E8, F8, G8 ,H8]]\n",
    " \n",
    "\n",
    "\n",
    "c) Instead of lists use tuples to hold the coordinates in a chessboard like this (**)\n",
    "\n",
    "((\"A\",1),(\"B\",1),(\"C\",1),(\"D\",1),(\"E\",1),(\"F\",1),(\"G\",1),(\"H\",1)),\n",
    "((\"A\",2),(\"B\",2),(\"C\",2),(\"D\",2),(\"E\",2),(\"F\",2),(\"G\",2),(\"H\",2)),\n",
    "((\"A\",3),(\"B\",3),(\"C\",3),(\"D\",3),(\"E\",3),(\"F\",3),(\"G\",3),(\"H\",3)),\n",
    "((\"A\",4),(\"B\",4),(\"C\",4),(\"D\",4),(\"E\",4),(\"F\",4),(\"G\",4),(\"H\",4)),\n",
    "((\"A\",5),(\"B\",5),(\"C\",5),(\"D\",5),(\"E\",5),(\"F\",5),(\"G\",5),(\"H\",5)),\n",
    "((\"A\",6),(\"B\",6),(\"C\",6),(\"D\",6),(\"E\",6),(\"F\",6),(\"G\",6),(\"H\",6)),\n",
    "((\"A\",7),(\"B\",7),(\"C\",7),(\"D\",7),(\"E\",7),(\"F\",7),(\"G\",7),(\"H\",7)),\n",
    "((\"A\",8),(\"B\",8),(\"C\",8),(\"D\",8),(\"E\",8),(\"F\",8),(\"G\",8),(\"H\",8))"
   ]
  },
  {
   "cell_type": "code",
   "execution_count": null,
   "id": "3d2010a9",
   "metadata": {},
   "outputs": [
    {
     "name": "stdout",
     "output_type": "stream",
     "text": [
      "['A1', 'B1', 'C1', 'D1', 'E1', 'F1', 'G1', 'H1']\n"
     ]
    }
   ],
   "source": [
    "# First row (simpler)\n",
    "\n",
    "# empty list\n",
    "row1 = []\n",
    "\n",
    "# list for chessboard columns A - H\n",
    "letters = [\"A\", \"B\", \"C\", \"D\", \"E\", \"F\", \"G\", \"H\"]\n",
    "\n",
    "# loop through each letter on row1 list\n",
    "for letter in letters:\n",
    "\n",
    "    # add the str \"1\" per column (A1, B1... to row1 list)\n",
    "    row1.append(letter + \"1\")\n",
    "print(row1)"
   ]
  },
  {
   "cell_type": "code",
   "execution_count": 15,
   "id": "57fb2bd6",
   "metadata": {},
   "outputs": [
    {
     "name": "stdout",
     "output_type": "stream",
     "text": [
      "['A1', 'B1', 'C1', 'D1', 'E1', 'F1', 'G1', 'H1']\n"
     ]
    }
   ],
   "source": [
    "# First row, list comprehension version\n",
    "\n",
    "# list for chessboard columns A - H\n",
    "letters = [\"A\", \"B\", \"C\", \"D\", \"E\", \"F\", \"G\", \"H\"]\n",
    "\n",
    "# create the row using list comprehension\n",
    "row1 = [letters + \"1\" for letters in letters]\n",
    "\n",
    "print(row1)"
   ]
  },
  {
   "cell_type": "code",
   "execution_count": null,
   "id": "a0d054f1",
   "metadata": {},
   "outputs": [
    {
     "name": "stdout",
     "output_type": "stream",
     "text": [
      "['A1', 'B1', 'C1', 'D1', 'E1', 'F1', 'G1', 'H1']\n",
      "['A2', 'B2', 'C2', 'D2', 'E2', 'F2', 'G2', 'H2']\n",
      "['A3', 'B3', 'C3', 'D3', 'E3', 'F3', 'G3', 'H3']\n",
      "['A4', 'B4', 'C4', 'D4', 'E4', 'F4', 'G4', 'H4']\n",
      "['A5', 'B5', 'C5', 'D5', 'E5', 'F5', 'G5', 'H5']\n",
      "['A6', 'B6', 'C6', 'D6', 'E6', 'F6', 'G6', 'H6']\n",
      "['A7', 'B7', 'C7', 'D7', 'E7', 'F7', 'G7', 'H7']\n",
      "['A8', 'B8', 'C8', 'D8', 'E8', 'F8', 'G8', 'H8']\n"
     ]
    }
   ],
   "source": [
    "# b) Create a 2D list to hold the coordinates in a chessboard\n",
    "\n",
    "# chessboard empty list\n",
    "chessboard = []\n",
    "\n",
    "# list for chessboard columns A - H\n",
    "letters = [\"A\", \"B\", \"C\", \"D\", \"E\", \"F\", \"G\", \"H\"]\n",
    "\n",
    "# loop through numbers 1-8 (rows)\n",
    "for number in range (1,9):\n",
    "\n",
    "    #start with an empty row\n",
    "    row = []\n",
    "\n",
    "    # loop through each letter to build coordinates for the row\n",
    "    for letter in letters:\n",
    "        row.append(letter + str(number)) # convert numbers to str, A1, B1...\n",
    "\n",
    "    # add the completed row in chessboard list\n",
    "    chessboard.append(row)\n",
    "\n",
    "# print each row of chessboard\n",
    "for row in chessboard:\n",
    "    print(row)"
   ]
  },
  {
   "cell_type": "code",
   "execution_count": 20,
   "id": "2a4572be",
   "metadata": {},
   "outputs": [
    {
     "name": "stdout",
     "output_type": "stream",
     "text": [
      "(('A', 1), ('B', 1), ('C', 1), ('D', 1), ('E', 1), ('F', 1), ('G', 1), ('H', 1))\n",
      "(('A', 2), ('B', 2), ('C', 2), ('D', 2), ('E', 2), ('F', 2), ('G', 2), ('H', 2))\n",
      "(('A', 3), ('B', 3), ('C', 3), ('D', 3), ('E', 3), ('F', 3), ('G', 3), ('H', 3))\n",
      "(('A', 4), ('B', 4), ('C', 4), ('D', 4), ('E', 4), ('F', 4), ('G', 4), ('H', 4))\n",
      "(('A', 5), ('B', 5), ('C', 5), ('D', 5), ('E', 5), ('F', 5), ('G', 5), ('H', 5))\n",
      "(('A', 6), ('B', 6), ('C', 6), ('D', 6), ('E', 6), ('F', 6), ('G', 6), ('H', 6))\n",
      "(('A', 7), ('B', 7), ('C', 7), ('D', 7), ('E', 7), ('F', 7), ('G', 7), ('H', 7))\n",
      "(('A', 8), ('B', 8), ('C', 8), ('D', 8), ('E', 8), ('F', 8), ('G', 8), ('H', 8))\n"
     ]
    }
   ],
   "source": [
    "# c) Instead of lists, use tuples to hold the coordinates in a chessboard (**)\n",
    "\n",
    "# empty chessboard\n",
    "chessboard = []\n",
    "\n",
    "# columns A-H\n",
    "letters = [\"A\", \"B\", \"C\", \"D\", \"E\", \"F\", \"G\", \"H\"]\n",
    "\n",
    "# loop through 1-8\n",
    "for number in range (1,9):\n",
    "\n",
    "    # container for the rows\n",
    "    row = []\n",
    "\n",
    "    #loop through letters A-H\n",
    "    for letter in letters:\n",
    "\n",
    "    #  combine letter and number, A, 1, ...\n",
    "        row.append((letter, number))\n",
    "\n",
    "    # add completed row in list /convert list to tuple\n",
    "    chessboard.append(tuple(row))\n",
    "\n",
    "# convert chessboard to tuple of tuples\n",
    "chessboard = tuple(chessboard)\n",
    "\n",
    "# print each row\n",
    "for row in chessboard:\n",
    "    print(row)\n",
    "\n"
   ]
  },
  {
   "cell_type": "markdown",
   "id": "33f33e79",
   "metadata": {},
   "source": []
  },
  {
   "cell_type": "markdown",
   "id": "09cc934e",
   "metadata": {},
   "source": [
    "## 4. Dice rolls convergence (**)\n",
    "Simulate:\n",
    "\n",
    "a) 100 dice rolls and count the number of outcome six. (*)"
   ]
  },
  {
   "cell_type": "code",
   "execution_count": 22,
   "id": "c2ee3586",
   "metadata": {},
   "outputs": [
    {
     "name": "stdout",
     "output_type": "stream",
     "text": [
      "6 rolled out 19 times in 100 dice rolls.\n"
     ]
    }
   ],
   "source": [
    "import random as rnd\n",
    "\n",
    "# no. of dice rolls is 100\n",
    "dice_rolls = 100\n",
    "\n",
    "#counter for sixes, starts with 0\n",
    "sixes = 0\n",
    "\n",
    "# range is 100 since 100x\n",
    "for i in range (100):\n",
    "    dice = rnd.randint(1,6)     # roll dice between 1-6\n",
    "    if dice == 6:               # if statement 6 comes out\n",
    "        sixes += 1              # add 1 in sixes counter\n",
    "\n",
    "print(f'6 rolled out {sixes} times in {dice_rolls} dice rolls.')"
   ]
  },
  {
   "cell_type": "markdown",
   "id": "881b4386",
   "metadata": {},
   "source": [
    "b) 10, 100, 1000, 10000, 100000, 1000000 dice rolls. Count the number of outcome six in each simulation and store it in a list. Compute the probability of outcome six in each simulation. (**)"
   ]
  },
  {
   "cell_type": "code",
   "execution_count": null,
   "id": "6c19ebc2",
   "metadata": {},
   "outputs": [
    {
     "name": "stdout",
     "output_type": "stream",
     "text": [
      "Rolls          Sixes          Probability\n",
      "10            1             0.10\n",
      "100           20            0.20\n",
      "1000          170           0.17\n",
      "10000         1664          0.17\n",
      "100000        16469         0.16\n",
      "1000000       166386        0.17\n"
     ]
    }
   ],
   "source": [
    "import random as rnd \n",
    "\n",
    "# different trials of dice rolls to test\n",
    "trials = [10, 100, 1000, 10000, 100000, 1000000]\n",
    "\n",
    "# store results\n",
    "counts = []              # no. of sixes\n",
    "probabilities = []       # probabilities\n",
    "\n",
    "\n",
    "# simulation\n",
    "\n",
    "for rolls in trials:         # loop over each trial size(10, 100, ...)\n",
    "    sixes = 0                # counter starts at 0\n",
    "\n",
    "\n",
    "    for i in range(rolls):  # loop the number of rolls\n",
    "        dice = rnd.randint(1, 6)  # roll a dice 1-6\n",
    "        if dice == 6:             # check if 6 is rolled\n",
    "            sixes += 1            # if yes, add += to sixes\n",
    "\n",
    "\n",
    "    counts.append(sixes)          # save the no. of sixes in this trial\n",
    "    probabilities.append(sixes / rolls)  # compute probability = sixes/rolls\n",
    "\n",
    "# print results\n",
    "print(\"Rolls          Sixes          Probability\")\n",
    "for i in range(len(trials)):\n",
    "    print(f\"{trials[i]:<13} {counts[i]:<13} {probabilities[i]:.2f}\")       # print each result in column\n"
   ]
  },
  {
   "cell_type": "markdown",
   "id": "a2468018",
   "metadata": {},
   "source": []
  },
  {
   "cell_type": "markdown",
   "id": "78473356",
   "metadata": {},
   "source": [
    "c) Use matplotlib to plot this list. (*)"
   ]
  },
  {
   "cell_type": "code",
   "execution_count": null,
   "id": "db3a4ebc",
   "metadata": {},
   "outputs": [],
   "source": []
  },
  {
   "cell_type": "markdown",
   "id": "9016adaa",
   "metadata": {},
   "source": []
  },
  {
   "attachments": {
    "image.png": {
     "image/png": "[encoded data removed]"
    }
   },
   "cell_type": "markdown",
   "id": "e6e322d8",
   "metadata": {},
   "source": [
    "## 6. A cute rabbit among two ferocious snakes (***)\n",
    "\n",
    "There are three identical doors, behind two of them, there are ferocious snakes and behind one of them is a cute little rabbit. Your aim is to pick a door and get the cute rabbit. You start picking one door randomly and suddenly another door opens and snake slithers away pssss. Now you have a choice to either stay with your door or change to the remaining door.\n",
    "\n",
    "![image.png](attachment:image.png)\n",
    "\n",
    "a) What is your choice and why? (**)\n",
    "\n",
    "\n",
    "b) Randomly assign which door has the rabbit, and randomly pick an initial door. Now simulate 10, 100, 1000, 10000, 100000, 1000000 times for staying and for switching doors. Calculate the proportion of finding the rabbits for each set of simulations. Plot the results (**)"
   ]
  },
  {
   "cell_type": "markdown",
   "id": "b5ba6922",
   "metadata": {},
   "source": []
  },
  {
   "cell_type": "markdown",
   "id": "00bafba2",
   "metadata": {},
   "source": [
    "### What is the choice ans why? Initial Choice\n",
    "\n",
    "3 doors total.\n",
    "\n",
    "Probability you pick the rabbit right away: 1/3 ≈ 33%.\n",
    "\n",
    "Probability you pick a snake: 2/3 ≈ 66%.\n",
    "\n",
    "-------------------------------------------------------\n",
    "\n",
    "2. If you picked the rabbit initially (1/3 chance):\n",
    "\n",
    "The host shows a snake.\n",
    "\n",
    "If you switch, you will lose (because the remaining door is a snake).\n",
    "\n",
    "If you stay, you win.\n",
    "✅ Staying works in this case.\n",
    "\n",
    "If you picked a snake initially (2/3 chance):\n",
    "\n",
    "The host shows the other snake.\n",
    "\n",
    "The remaining closed door must have the rabbit.\n",
    "\n",
    "If you switch, you win.\n",
    "\n",
    "If you stay, you lose.\n",
    "✅ Switching works in this case.\n",
    "\n",
    "-------------------------------------------------------------\n",
    "\n",
    "Final Probabilities\n",
    "\n",
    "Stay strategy: wins only if your first guess was the rabbit → 1/3 chance.\n",
    "\n",
    "Switch strategy: wins if your first guess was a snake → 2/3 chance.\n",
    "\n",
    "So mathematically:\n",
    "\n",
    "🐍 Stay = 33% success\n",
    "\n",
    "🐇 Switch = 66% success\n",
    "\n",
    "The beauty is that the simulation you’re about to code will show these proportions as the number of trials grows large (law of large numbers).\n",
    "\n",
    "-------------------------------------------------------------"
   ]
  },
  {
   "cell_type": "markdown",
   "id": "bc6cc7c0",
   "metadata": {},
   "source": []
  },
  {
   "cell_type": "markdown",
   "id": "114ad1c2",
   "metadata": {},
   "source": [
    "### Problem Breakdown (Monthy Hall Problem)\n",
    "\n",
    "1. Setup\n",
    "- 1 door -> rabbit\n",
    "- 2 doors -> snakes\n",
    "\n",
    "Randomnly place rabbit in 1 door.\n",
    "\n",
    "----------------------------------------\n",
    "\n",
    "2. Intial choice\n",
    "\n",
    "- Player randomly picks one door.\n",
    "\n",
    "----------------------------------------\n",
    "\n",
    "3. Host revels a snake\n",
    "\n",
    "- A door is opened, one of the remaining doors that has a snake.\n",
    "\n",
    "- Never reveal the rabbit or other 2 doors.\n",
    "\n",
    "------------------------------------------\n",
    "\n",
    "4. 2 strategies\n",
    "\n",
    "- Stay strategy: keep orginal chosen door.\n",
    "- Switch strategy: change to the other unopened door.\n",
    "\n",
    "--------------------------------------------\n",
    "\n",
    "5. Simulation Loop\n",
    "\n",
    "- Repeat the process multiple times.\n",
    "- Randomly place a rabbit.\n",
    "- Randomly pick a door.\n",
    "- Reveal a snake\n",
    "- Decide outcome for stay or switch strategies.\n",
    "\n",
    "----------------------------------------------\n",
    "\n",
    "6. Experiment sizes\n",
    "10, 100, 1_000, 10_000, 100_000, 1_000_000\n",
    "\n",
    "-----------------------------------------------\n",
    "\n",
    "7. Output\n",
    "\n",
    "- For eah number of trials:\n",
    "-- Show proportion of success staying.\n",
    "--  Show proportion of success switching.\n",
    "-- Compare\n",
    "\n",
    "-----------------------------------------------"
   ]
  },
  {
   "cell_type": "markdown",
   "id": "02efbcba",
   "metadata": {},
   "source": []
  },
  {
   "cell_type": "markdown",
   "id": "3f161728",
   "metadata": {},
   "source": [
    "### Pseudocode for One Round\n",
    "\n",
    "1. Randomly place rabbit in 1/3 doors.\n",
    "rabbit_door = random [0, 1, 2]\n",
    "\n",
    "2. Player picks a door\n",
    "player_choice = input [0, 1, 2]\n",
    "\n",
    "3. Program opens 1/3 door.\n",
    "a) door opened must not be player's choice.\n",
    "b) reveal a snake door.\n",
    "reveal_door1 = [random door from conditions a & b]\n",
    "\n",
    "4. Determine the remaining 2/3 closed doors.\n",
    "not including the player_choice\n",
    "\n",
    "5. Strategy choice\n",
    "a) If \"stay\": win if player_choice == rabbit door\n",
    "b) if \"switch\": win if other door == rabbit door\n",
    "\n"
   ]
  },
  {
   "cell_type": "code",
   "execution_count": null,
   "id": "078740a3",
   "metadata": {},
   "outputs": [
    {
     "name": "stdout",
     "output_type": "stream",
     "text": [
      "['snake', 'rabbit', 'snake']\n",
      "['snake', 'rabbit', 'snake']\n",
      "['snake', 'snake', 'rabbit']\n",
      "['rabbit', 'snake', 'snake']\n",
      "['rabbit', 'snake', 'snake']\n",
      "['snake', 'snake', 'rabbit']\n",
      "['rabbit', 'snake', 'snake']\n",
      "['rabbit', 'snake', 'snake']\n",
      "['snake', 'snake', 'rabbit']\n",
      "['snake', 'snake', 'rabbit']\n"
     ]
    }
   ],
   "source": [
    "# Code for One Round following the pseudocode above\n",
    "\n",
    "import random as rnd\n",
    "\n",
    "# represent 3 doors that represent each outcome\n",
    "doors = [\"snake\", \"snake\", \"rabbit\"]\n",
    "\n",
    "# Number of times to attempt each strategy\n",
    "attempts = 10\n",
    "\n",
    "# counter for wins \"rabbit\"\n",
    "wins = 0\n",
    "\n",
    "# loop for picking a door \"0\" and sticking with it\n",
    "for i in range (0, attempts):        # repeat by number of attempts\n",
    "    \n",
    "    rnd.shuffle(doors)    #represent rearranging of doors at random\n",
    "\n",
    "    print(doors)\n",
    "\n",
    "\n",
    "# The output will show random rearrangments of items in list. Can anlso show random choices in list."
   ]
  },
  {
   "cell_type": "code",
   "execution_count": null,
   "id": "2a3ca306",
   "metadata": {},
   "outputs": [
    {
     "name": "stdout",
     "output_type": "stream",
     "text": [
      "['snake', 'rabbit', 'snake']\n",
      "[0, 2]\n",
      "['rabbit', 'snake', 'snake']\n",
      "[1, 2]\n",
      "['snake', 'snake', 'rabbit']\n",
      "[0, 1]\n",
      "['rabbit', 'snake', 'snake']\n",
      "[1, 2]\n",
      "['snake', 'snake', 'rabbit']\n",
      "[0, 1]\n",
      "['snake', 'rabbit', 'snake']\n",
      "[0, 2]\n",
      "['snake', 'snake', 'rabbit']\n",
      "[0, 1]\n",
      "['snake', 'rabbit', 'snake']\n",
      "[0, 2]\n",
      "['snake', 'rabbit', 'snake']\n",
      "[0, 2]\n",
      "['rabbit', 'snake', 'snake']\n",
      "[1, 2]\n"
     ]
    }
   ],
   "source": [
    "# Code for One Round following the pseudocode above\n",
    "\n",
    "import random as rnd\n",
    "\n",
    "# represent 3 doors that represent each outcome\n",
    "doors = [\"snake\", \"snake\", \"rabbit\"]\n",
    "\n",
    "# Number of times to attempt each strategy\n",
    "attempts = 10\n",
    "\n",
    "# counter for wins \"rabbit\"\n",
    "wins = 0\n",
    "\n",
    "# loop for picking a door \"0\" and sticking with it\n",
    "for i in range (0, attempts):        # repeat by number of attempts\n",
    "    \n",
    "    rnd.shuffle(doors)    #represent rearranging of doors at random\n",
    "\n",
    "    pick = rnd.randint(0,2)     #to randomly pick an integer between 0-2. store into pick\n",
    "\n",
    "    # program will open 1 door except for the player has picked. Has to have a \"snake\" behind it.\n",
    "    # loop through doors list. \n",
    "\n",
    "    snake_doors = []    #If \"snake\" is chosen, store that into \"snake doors list\"\n",
    "\n",
    "    for j in range(0,3):       #loop through doors index\n",
    "        if doors[j] == \"snake\":        #if at index \"j\" if there is a snake\n",
    "            snake_doors.append(j)      #if there is, append to snake_doors\n",
    "\n",
    "    print (doors)\n",
    "    print(snake_doors)\n",
    "\n",
    "    # Output shows that the index == snake doors\n",
    "    # This output is needed to decide which door to open by the program.\n",
    "    # Example: If player opened 1st door with \"snake\", the program needs to open the 2nd door with a \"snake\" later as well.\n",
    "    # The program can't open door with \"rabbit\" or the door chosen by the player.\n",
    "    "
   ]
  },
  {
   "cell_type": "code",
   "execution_count": 13,
   "id": "7dafc469",
   "metadata": {},
   "outputs": [
    {
     "name": "stdout",
     "output_type": "stream",
     "text": [
      "30.0\n"
     ]
    }
   ],
   "source": [
    "# Code for One Round following the pseudocode above\n",
    "\n",
    "import random as rnd\n",
    "\n",
    "# represent 3 doors that represent each outcome\n",
    "doors = [\"snake\", \"snake\", \"rabbit\"]\n",
    "\n",
    "# Number of times to attempt each strategy\n",
    "attempts = 10\n",
    "\n",
    "# counter for wins \"rabbit\"\n",
    "wins = 0\n",
    "\n",
    "# loop for picking a door \"0\" and sticking with it\n",
    "for i in range (0, attempts):        # repeat by number of attempts, looped by i\n",
    "    \n",
    "    rnd.shuffle(doors)    #represent rearranging of doors at random\n",
    "\n",
    "    pick = rnd.randint(0,2)     #to randomly pick an integer between 0-2. store into pick\n",
    "\n",
    "    # program will open 1 door except for the player has picked. Has to have a \"snake\" behind it.\n",
    "    # loop through doors list. \n",
    "\n",
    "    snake_doors = []    #If \"snake\" is chosen, store that into \"snake doors list\"\n",
    "\n",
    "    for j in range(0,3):       #loop through doors index, looped by j\n",
    "        if doors[j] == \"snake\":        #if at index \"j\" if there is a snake\n",
    "            snake_doors.append(j)      #if there is, append to snake_doors\n",
    "\n",
    "\n",
    "    # Example: If player opened 1st door with \"snake\", the program needs to open the 2nd door with a \"snake\" later as well.\n",
    "    # The program can't open door with \"rabbit\" or the door chosen by the player.\n",
    "    if pick == snake_doors[0]:\n",
    "        program_opens = snake_doors[1]\n",
    "    elif pick == snake_doors[1]:                  #Vice versa: If player picked 2nd snake door, then program opens 1st snake door.\n",
    "        program_opens = snake_doors[0]\n",
    "    else: \n",
    "        program_opens = rnd.choice(snake_doors)   # Another possibility is if player picks door with \"rabbit\", program can open either \"snake door\" randomly: choice function\n",
    "\n",
    "    # Simulate when a player picks \"rabbit door\"\n",
    "    if doors[pick] == \"rabbit\":\n",
    "        wins += 1             # increase wins in counter since rabbit is chosen\n",
    "\n",
    "\n",
    "print((wins/attempts)*100)  # formula for getting the probability\n",
    "\n",
    "\n",
    "# What if player decides to Switch?\n",
    "\n",
    "    "
   ]
  },
  {
   "cell_type": "code",
   "execution_count": 18,
   "id": "920e943a",
   "metadata": {},
   "outputs": [
    {
     "name": "stdout",
     "output_type": "stream",
     "text": [
      "50.0\n"
     ]
    }
   ],
   "source": [
    "# Code for One Round following the pseudocode above\n",
    "\n",
    "import random as rnd\n",
    "\n",
    "# represent 3 doors that represent each outcome\n",
    "doors = [\"snake\", \"snake\", \"rabbit\"]\n",
    "\n",
    "# Number of times to attempt each strategy\n",
    "attempts = 10\n",
    "\n",
    "# counter for wins \"rabbit\"\n",
    "wins = 0\n",
    "\n",
    "# loop for picking a door \"0\" and sticking with it\n",
    "for i in range (0, attempts):        # repeat by number of attempts, looped by i\n",
    "    \n",
    "    rnd.shuffle(doors)    #represent rearranging of doors at random\n",
    "\n",
    "    pick = rnd.randint(0,2)     #to randomly pick an integer between 0-2. store into pick\n",
    "\n",
    "    # program will open 1 door except for the player has picked. Has to have a \"snake\" behind it.\n",
    "    # loop through doors list. \n",
    "\n",
    "    snake_doors = []    #If \"snake\" is chosen, store that into \"snake doors list\"\n",
    "\n",
    "    for j in range(0,3):       #loop through doors index, looped by j\n",
    "        if doors[j] == \"snake\":        #if at index \"j\" if there is a snake\n",
    "            snake_doors.append(j)      #if there is, append to snake_doors\n",
    "\n",
    "\n",
    "    # Example: If player opened 1st door with \"snake\", the program needs to open the 2nd door with a \"snake\" later as well.\n",
    "    # The program can't open door with \"rabbit\" or the door chosen by the player.\n",
    "    if pick == snake_doors[0]:\n",
    "        program_opens = snake_doors[1]\n",
    "    elif pick == snake_doors[1]:                  #Vice versa: If player picked 2nd snake door, then program opens 1st snake door.\n",
    "        program_opens = snake_doors[0]\n",
    "    else: \n",
    "        program_opens = rnd.choice(snake_doors)   # Another possibility is if player picks door with \"rabbit\", program can open either \"snake door\" randomly: choice function\n",
    "\n",
    "\n",
    "    all_doors = [0, 1, 2]                     # What if player decides to Switch? \n",
    "    all_doors.remove(pick)                    # Remove the door player 1st picked\n",
    "    all_doors.remove(program_opens)           # Remove the door that was revealed\n",
    "    switch_pick = all_doors[0]                # Only 1 remaining door, which is index 0.\n",
    "\n",
    "    # Simulate when a player picks \"rabbit door\"\n",
    "    if doors[switch_pick] == \"rabbit\":\n",
    "        wins += 1             # increase wins in counter since rabbit is chosen\n",
    "\n",
    "print((wins/attempts)*100)\n",
    "\n",
    "    "
   ]
  },
  {
   "cell_type": "markdown",
   "id": "f8592c7d",
   "metadata": {},
   "source": []
  },
  {
   "cell_type": "markdown",
   "id": "380ee365",
   "metadata": {},
   "source": []
  },
  {
   "cell_type": "markdown",
   "id": "0894da52",
   "metadata": {},
   "source": [
    "## 7. Theory"
   ]
  },
  {
   "cell_type": "markdown",
   "id": "861c3663",
   "metadata": {},
   "source": [
    "a) What is a sequence in Python? Give examples of sequence types.\n",
    "\n",
    "- In Python, a sequence is an ordered collection of items that allows you to store multiple values in a single variable. The items in a sequence are indexed (starting from 0) and can be accessed using their position.\n",
    "\n",
    "- Sequences also support common operations such as slicing, concatenation, repetition, membership testing, and built-in functions like len(), min(), max(), and sum() (depending on the sequence type).\n",
    "\n",
    "b) What is the difference between a list and a tuple?"
   ]
  },
  {
   "cell_type": "code",
   "execution_count": 20,
   "id": "c0eb0b4f",
   "metadata": {},
   "outputs": [
    {
     "name": "stdout",
     "output_type": "stream",
     "text": [
      "apple\n",
      "['apple', 'banana', 'cherry', 'orange']\n"
     ]
    }
   ],
   "source": [
    "''' \n",
    "List\n",
    "Mutable (can be changed after creation).\n",
    "\n",
    "Can store elements of different types.\n",
    "'''\n",
    "\n",
    "\n",
    "fruits = [\"apple\", \"banana\", \"cherry\"]\n",
    "print(fruits[0])   # apple\n",
    "fruits.append(\"orange\")\n",
    "print(fruits)      # ['apple', 'banana', 'cherry', 'orange']\n"
   ]
  },
  {
   "cell_type": "code",
   "execution_count": 22,
   "id": "6391f0f9",
   "metadata": {},
   "outputs": [
    {
     "name": "stdout",
     "output_type": "stream",
     "text": [
      "20\n"
     ]
    }
   ],
   "source": [
    "'''\n",
    "Tuple (tuple)\n",
    "\n",
    "Immutable (cannot be changed after creation).\n",
    "\n",
    "Useful for fixed collections of items.\n",
    "'''\n",
    "\n",
    "coordinates = (10, 20, 30)\n",
    "print(coordinates[1])  # 20\n"
   ]
  },
  {
   "cell_type": "code",
   "execution_count": 23,
   "id": "fa22f1ad",
   "metadata": {},
   "outputs": [
    {
     "name": "stdout",
     "output_type": "stream",
     "text": [
      "P\n",
      "tho\n"
     ]
    }
   ],
   "source": [
    "''' \n",
    "String (str)\n",
    "\n",
    "Sequence of characters.\n",
    "\n",
    "Immutable.\n",
    "'''\n",
    "text = \"Python\"\n",
    "print(text[0])     # P\n",
    "print(text[2:5])   # tho\n"
   ]
  },
  {
   "cell_type": "code",
   "execution_count": 25,
   "id": "88d932c9",
   "metadata": {},
   "outputs": [
    {
     "name": "stdout",
     "output_type": "stream",
     "text": [
      "[1, 2, 3, 4, 5]\n"
     ]
    }
   ],
   "source": [
    "'''\n",
    "Range (range)\n",
    "\n",
    "Represents a sequence of numbers.\n",
    "\n",
    "Often used in loops.\n",
    "\n",
    "'''\n",
    "numbers = range(1, 6)\n",
    "print(list(numbers))  # [1, 2, 3, 4, 5]\n"
   ]
  },
  {
   "cell_type": "markdown",
   "id": "3408df5c",
   "metadata": {},
   "source": []
  },
  {
   "cell_type": "markdown",
   "id": "3a154106",
   "metadata": {},
   "source": [
    "c) How does indexing work in Python sequences? What happens if you use a negative index?\n",
    "\n",
    "- Indexing in Python Sequences\n",
    "\n",
    "Indexing lets you access individual elements in a sequence using their position.\n",
    "\n",
    "Indexing starts at 0 for the first element, 1 for the second, and so on.\n",
    "\n",
    "- Negative Indexing\n",
    "\n",
    "Negative indices count from the end of the sequence.\n",
    "\n",
    "-1 is the last element, -2 is the second last, etc."
   ]
  },
  {
   "cell_type": "code",
   "execution_count": 26,
   "id": "64f3038a",
   "metadata": {},
   "outputs": [
    {
     "name": "stdout",
     "output_type": "stream",
     "text": [
      "apple\n",
      "banana\n"
     ]
    }
   ],
   "source": [
    "fruits = [\"apple\", \"banana\", \"cherry\"]\n",
    "print(fruits[0])  # apple\n",
    "print(fruits[1])  # banana\n"
   ]
  },
  {
   "cell_type": "code",
   "execution_count": 27,
   "id": "719dcc8f",
   "metadata": {},
   "outputs": [
    {
     "name": "stdout",
     "output_type": "stream",
     "text": [
      "cherry\n",
      "banana\n"
     ]
    }
   ],
   "source": [
    "print(fruits[-1])  # cherry\n",
    "print(fruits[-2])  # banana\n"
   ]
  },
  {
   "cell_type": "markdown",
   "id": "d22d3685",
   "metadata": {},
   "source": []
  },
  {
   "cell_type": "markdown",
   "id": "4f8b9688",
   "metadata": {},
   "source": [
    "d) How does Python handle out-of-range indices in slicing vs indexing?\n",
    "\n",
    "- Indexing vs Slicing with Out-of-Range Indices\n",
    "\n",
    "Indexing\n",
    "\n",
    "If you access an element using an index that is out of range → IndexError."
   ]
  },
  {
   "cell_type": "code",
   "execution_count": 28,
   "id": "9bca8f22",
   "metadata": {},
   "outputs": [
    {
     "ename": "IndexError",
     "evalue": "list index out of range",
     "output_type": "error",
     "traceback": [
      "\u001b[31m---------------------------------------------------------------------------\u001b[39m",
      "\u001b[31mIndexError\u001b[39m                                Traceback (most recent call last)",
      "\u001b[36mCell\u001b[39m\u001b[36m \u001b[39m\u001b[32mIn[28]\u001b[39m\u001b[32m, line 2\u001b[39m\n\u001b[32m      1\u001b[39m nums = [\u001b[32m10\u001b[39m, \u001b[32m20\u001b[39m, \u001b[32m30\u001b[39m]\n\u001b[32m----> \u001b[39m\u001b[32m2\u001b[39m \u001b[38;5;28mprint\u001b[39m(\u001b[43mnums\u001b[49m\u001b[43m[\u001b[49m\u001b[32;43m5\u001b[39;49m\u001b[43m]\u001b[49m)   \u001b[38;5;66;03m# ❌ IndexError\u001b[39;00m\n",
      "\u001b[31mIndexError\u001b[39m: list index out of range"
     ]
    }
   ],
   "source": [
    "nums = [10, 20, 30]\n",
    "print(nums[5])   # ❌ IndexError\n"
   ]
  },
  {
   "cell_type": "markdown",
   "id": "3286151b",
   "metadata": {},
   "source": [
    "- Slicing\n",
    "\n",
    "Out-of-range indices are handled gracefully.\n",
    "\n",
    "Python adjusts the indices to fit within the sequence.\n",
    "\n",
    "If your slice goes beyond the actual length, Python just stops at the end without error.\n",
    "\n",
    "If the start is already beyond the end → it just returns an empty sequence.\n",
    "\n",
    "\n",
    "- Start at index 1 → that’s 20.\n",
    "\n",
    "End at index 10 → list has no index 10, so Python stops at the end of the list.\n",
    "\n",
    "\n",
    "Result: [20, 30].\n",
    "\n",
    "- Start at index 5 → but the list ends at index 2.\n",
    "\n",
    "Nothing to return → so Python gives an empty list."
   ]
  },
  {
   "cell_type": "code",
   "execution_count": 34,
   "id": "dc44b428",
   "metadata": {},
   "outputs": [
    {
     "name": "stdout",
     "output_type": "stream",
     "text": [
      "[20, 30]\n",
      "[]\n"
     ]
    }
   ],
   "source": [
    "print(nums[1:10])  # ✅ [20, 30]\n",
    "print(nums[5:8])   # ✅ [] (empty list)\n"
   ]
  },
  {
   "cell_type": "markdown",
   "id": "b6974657",
   "metadata": {},
   "source": []
  },
  {
   "cell_type": "markdown",
   "id": "849badcd",
   "metadata": {},
   "source": [
    "e) Which of the following sequence types are mutable: list, tuple, str, range?\n",
    "\n",
    "- Mutability of Python Sequences\n",
    "\n",
    "List → ✅ Mutable (you can change, add, or remove elements).\n",
    "\n",
    "Tuple → ❌ Immutable (cannot be changed after creation).\n",
    "\n",
    "String (str) → ❌ Immutable (characters cannot be modified).\n",
    "\n",
    "Range → ❌ Immutable (represents a fixed sequence of numbers)."
   ]
  },
  {
   "cell_type": "markdown",
   "id": "e0eca7f3",
   "metadata": {},
   "source": []
  },
  {
   "cell_type": "markdown",
   "id": "4b77e996",
   "metadata": {},
   "source": [
    "f) What is sequence unpacking? Provide an example.\n",
    "\n",
    "- Sequence Unpacking\n",
    "\n",
    "Sequence unpacking means assigning the elements of a sequence (list, tuple, string, etc.) directly into multiple variables in a single step.\n",
    "\n",
    "- makes your code shorter, cleaner, and more readable by directly extracting values instead of indexing.\n"
   ]
  },
  {
   "cell_type": "code",
   "execution_count": 35,
   "id": "db71c84a",
   "metadata": {},
   "outputs": [
    {
     "name": "stdout",
     "output_type": "stream",
     "text": [
      "3\n",
      "4\n",
      "apple banana cherry\n"
     ]
    }
   ],
   "source": [
    "# Tuple unpacking\n",
    "point = (3, 4)\n",
    "x, y = point\n",
    "print(x)  # 3\n",
    "print(y)  # 4\n",
    "\n",
    "# List unpacking\n",
    "fruits = [\"apple\", \"banana\", \"cherry\"]\n",
    "a, b, c = fruits\n",
    "print(a, b, c)  # apple banana cherry\n"
   ]
  },
  {
   "cell_type": "code",
   "execution_count": 36,
   "id": "86b0ed24",
   "metadata": {},
   "outputs": [
    {
     "name": "stdout",
     "output_type": "stream",
     "text": [
      "10 5\n"
     ]
    }
   ],
   "source": [
    "# Swapping values easily\n",
    "\n",
    "a, b = 5, 10\n",
    "a, b = b, a\n",
    "print(a, b)  # 10 5\n"
   ]
  },
  {
   "cell_type": "code",
   "execution_count": 37,
   "id": "91e7ff17",
   "metadata": {},
   "outputs": [
    {
     "name": "stdout",
     "output_type": "stream",
     "text": [
      "100 300\n"
     ]
    }
   ],
   "source": [
    "# Ignoring values with _\n",
    "\n",
    "data = (100, 200, 300)\n",
    "x, _, z = data\n",
    "print(x, z)  # 100 300\n"
   ]
  },
  {
   "cell_type": "code",
   "execution_count": null,
   "id": "0423aea4",
   "metadata": {},
   "outputs": [],
   "source": []
  },
  {
   "cell_type": "markdown",
   "id": "4a85748f",
   "metadata": {},
   "source": [
    "g) What are some common use cases for enumerate() and zip() when working with sequences?\n",
    "\n",
    "- enumerate()\n",
    "\n",
    "Adds an index counter while looping through a sequence.\n",
    "\n",
    "Useful when you need both index and value.\n",
    "\n",
    "✅ Common use cases:\n",
    "\n",
    "Iterating with index + item\n",
    "\n",
    "Debugging / logging positions in data"
   ]
  },
  {
   "cell_type": "code",
   "execution_count": 38,
   "id": "9e6247e6",
   "metadata": {},
   "outputs": [
    {
     "name": "stdout",
     "output_type": "stream",
     "text": [
      "0 apple\n",
      "1 banana\n",
      "2 cherry\n"
     ]
    }
   ],
   "source": [
    "fruits = [\"apple\", \"banana\", \"cherry\"]\n",
    "\n",
    "for i, fruit in enumerate(fruits):\n",
    "    print(i, fruit)"
   ]
  },
  {
   "cell_type": "markdown",
   "id": "3a0a8777",
   "metadata": {},
   "source": [
    "- zip()\n",
    "\n",
    "Combines two (or more) sequences element by element into tuples.\n",
    "\n",
    "Useful for pairing related data."
   ]
  },
  {
   "cell_type": "code",
   "execution_count": 39,
   "id": "d64ca4b6",
   "metadata": {},
   "outputs": [
    {
     "name": "stdout",
     "output_type": "stream",
     "text": [
      "Alice 85\n",
      "Bob 92\n",
      "Charlie 78\n"
     ]
    }
   ],
   "source": [
    "names = [\"Alice\", \"Bob\", \"Charlie\"]\n",
    "scores = [85, 92, 78]\n",
    "\n",
    "for name, scrore in zip(names, scores):\n",
    "    print(name, scrore)"
   ]
  },
  {
   "cell_type": "markdown",
   "id": "2e92db23",
   "metadata": {},
   "source": [
    "✅ Common use cases:\n",
    "\n",
    "Iterating over multiple sequences in parallel\n",
    "\n",
    "Creating dictionaries from two lists"
   ]
  },
  {
   "cell_type": "code",
   "execution_count": 40,
   "id": "7342d2a4",
   "metadata": {},
   "outputs": [
    {
     "name": "stdout",
     "output_type": "stream",
     "text": [
      "{'Alice': 85, 'Bob': 92, 'Charlie': 78}\n"
     ]
    }
   ],
   "source": [
    "student_dict = dict(zip(names, scores))\n",
    "print(student_dict)"
   ]
  },
  {
   "cell_type": "markdown",
   "id": "2ed3d09a",
   "metadata": {},
   "source": [
    "h) What is the difference between sorted() and .sort() in lists?\n",
    "\n",
    "- sorted() (built-in function)\n",
    "\n",
    "Works on any iterable (lists, tuples, strings, etc.).\n",
    "\n",
    "Returns a new sorted list → original sequence is unchanged."
   ]
  },
  {
   "cell_type": "code",
   "execution_count": 44,
   "id": "b1aee34a",
   "metadata": {},
   "outputs": [
    {
     "name": "stdout",
     "output_type": "stream",
     "text": [
      "[1, 2, 3, 4]\n",
      "no sorted [3, 1, 4, 2]\n"
     ]
    }
   ],
   "source": [
    "nums = [3, 1, 4, 2]\n",
    "print(sorted(nums))   # [1, 2, 3, 4]\n",
    "print(f'no sorted {nums}')           # [3, 1, 4, 2] (unchanged)\n"
   ]
  },
  {
   "cell_type": "markdown",
   "id": "67433b50",
   "metadata": {},
   "source": [
    "- .sort() (list method)\n",
    "\n",
    "Works only on lists.\n",
    "\n",
    "Sorts the list in place → modifies the original list.\n",
    "\n",
    "Returns None."
   ]
  },
  {
   "cell_type": "code",
   "execution_count": 45,
   "id": "3c3e62b1",
   "metadata": {},
   "outputs": [
    {
     "name": "stdout",
     "output_type": "stream",
     "text": [
      "[1, 2, 3, 4]\n"
     ]
    }
   ],
   "source": [
    "nums = [3, 1, 4, 2]\n",
    "nums.sort()\n",
    "print(nums)  # [1, 2, 3, 4]\n"
   ]
  },
  {
   "cell_type": "markdown",
   "id": "96a1dbf4",
   "metadata": {},
   "source": []
  },
  {
   "cell_type": "markdown",
   "id": "98714cd9",
   "metadata": {},
   "source": [
    "## Glossary\n",
    "\n",
    "Fill in this table either by copying this into your own markdown file or copy it into a spreadsheet if you feel that is easier to work with.\n",
    "\n",
    "1. terminology\texplanation\n",
    "\n",
    "2. sequence\t\n",
    "- An ordered collection of items (e.g., list, tuple, string) that supports indexing and slicing.\n",
    "\n",
    "3. list\t\n",
    "- A mutable sequence type that can hold different data types.\n",
    "\n",
    "4. tuple\t\n",
    "- An immutable sequence type, often used for fixed collections of items.\n",
    "\n",
    "5. set\t\n",
    "- An unordered collection of unique elements; does not allow duplicates.\n",
    "\n",
    "6. range\t\n",
    "- A sequence of numbers, commonly used for looping (range(start, stop, step)).\n",
    "\n",
    "7. indexing\t\n",
    "- Accessing elements of a sequence using their position\n",
    " (e.g., mylist[0]).\n",
    "\n",
    "8. slicing\t\n",
    "- Extracting a portion of a sequence using [start:end:step] notation.\n",
    "\n",
    "9. comprehension\n",
    "- A concise way to create new lists, sets, or dictionaries using expressions inside brackets.\t\n",
    "\n",
    "10. zip\t\n",
    "- Function that combines elements from multiple sequences into tuples.\n",
    "\n",
    "11. enumermate\t\n",
    "- Function that adds an index counter while iterating over a sequence.\n",
    "\n",
    "12. unpacking\t\n",
    "- Assigning elements of a sequence to multiple variables in one step.\n",
    "\n",
    "13. membership test\t\n",
    "- Checking if an item exists in a sequence using in or not in."
   ]
  },
  {
   "cell_type": "markdown",
   "id": "97ab7337",
   "metadata": {},
   "source": []
  }
 ],
 "metadata": {
  "kernelspec": {
   "display_name": "Python 3",
   "language": "python",
   "name": "python3"
  },
  "language_info": {
   "codemirror_mode": {
    "name": "ipython",
    "version": 3
   },
   "file_extension": ".py",
   "mimetype": "text/x-python",
   "name": "python",
   "nbconvert_exporter": "python",
   "pygments_lexer": "ipython3",
   "version": "3.12.10"
  }
 },
 "nbformat": 4,
 "nbformat_minor": 5
}
