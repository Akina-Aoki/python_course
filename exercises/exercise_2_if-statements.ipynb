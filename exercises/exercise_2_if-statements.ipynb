{
 "cells": [
  {
   "cell_type": "code",
   "execution_count": 21,
   "id": "e17b3640",
   "metadata": {},
   "outputs": [
    {
     "name": "stdout",
     "output_type": "stream",
     "text": [
      "Enjoy this scary movie\n"
     ]
    }
   ],
   "source": [
    "age = int(input(\"Enter you age: \"))\n",
    "age_limit = 15\n",
    "\n",
    "if age < age_limit:\n",
    "    print(\"Sorry, you are too young to attend this scary movie.\")\n",
    "    print(\"Please watch cartoons instead\")\n",
    "else: \n",
    "    print(\"Enjoy this scary movie\")"
   ]
  },
  {
   "cell_type": "code",
   "execution_count": 22,
   "id": "5651871b",
   "metadata": {},
   "outputs": [
    {
     "name": "stdout",
     "output_type": "stream",
     "text": [
      "Welcome to rollercoaster\n"
     ]
    }
   ],
   "source": [
    "age = 15\n",
    "height = 150\n",
    "\n",
    "if age > 11 and 130 < height < 210:\n",
    "    print(\"Welcome to rollercoaster\")\n",
    "else:\n",
    "    print(\"Come back when you fulfill requirements\")"
   ]
  },
  {
   "cell_type": "code",
   "execution_count": 23,
   "id": "f89249c0",
   "metadata": {},
   "outputs": [
    {
     "name": "stdout",
     "output_type": "stream",
     "text": [
      "Welcome to rollercoaster\n"
     ]
    }
   ],
   "source": [
    "age = 15\n",
    "height = 130\n",
    "\n",
    "if age > 11 and 130 <= height < 210:\n",
    "    print(\"Welcome to rollercoaster\")\n",
    "else:\n",
    "    print(\"Come back when you fulfill requirements\")"
   ]
  },
  {
   "cell_type": "markdown",
   "id": "77ffec67",
   "metadata": {},
   "source": []
  },
  {
   "cell_type": "markdown",
   "id": "88b75e67",
   "metadata": {},
   "source": [
    "Modulo operator"
   ]
  },
  {
   "cell_type": "code",
   "execution_count": 24,
   "id": "6f8fef7e",
   "metadata": {},
   "outputs": [
    {
     "name": "stdout",
     "output_type": "stream",
     "text": [
      "Odd number\n"
     ]
    }
   ],
   "source": [
    "number = 5\n",
    "if number % 2 == 0:\n",
    "    print(\"Even number\")\n",
    "else:\n",
    "    print(\"Odd number\")"
   ]
  },
  {
   "cell_type": "code",
   "execution_count": 25,
   "id": "6fc8a1b1",
   "metadata": {},
   "outputs": [
    {
     "name": "stdout",
     "output_type": "stream",
     "text": [
      "Even number\n"
     ]
    }
   ],
   "source": [
    "number = 50\n",
    "if number % 2 == 0:\n",
    "    print(\"Even number\")\n",
    "else:\n",
    "    print(\"Odd number\")"
   ]
  },
  {
   "cell_type": "code",
   "execution_count": 26,
   "id": "b83d8eec",
   "metadata": {},
   "outputs": [
    {
     "name": "stdout",
     "output_type": "stream",
     "text": [
      "Odd number\n"
     ]
    }
   ],
   "source": [
    "number = 5\n",
    "if not number % 2:\n",
    "    print(\"Even number\")\n",
    "else:\n",
    "    print(\"Odd number\")"
   ]
  },
  {
   "cell_type": "code",
   "execution_count": 27,
   "id": "aa909685",
   "metadata": {},
   "outputs": [
    {
     "name": "stdout",
     "output_type": "stream",
     "text": [
      "Odd\n"
     ]
    }
   ],
   "source": [
    "number = 5\n",
    "if number % 2:\n",
    "    print(\"Odd\")\n",
    "else:\n",
    "    print(\"Even\")"
   ]
  },
  {
   "cell_type": "code",
   "execution_count": 29,
   "id": "cde1280b",
   "metadata": {},
   "outputs": [
    {
     "name": "stdout",
     "output_type": "stream",
     "text": [
      "truthy\n"
     ]
    }
   ],
   "source": [
    "if [3]:\n",
    "    print(\"truthy\")\n",
    "else:\n",
    "    print(\"falsy\")"
   ]
  },
  {
   "cell_type": "code",
   "execution_count": 30,
   "id": "4e308a96",
   "metadata": {},
   "outputs": [
    {
     "name": "stdout",
     "output_type": "stream",
     "text": [
      "truthy\n"
     ]
    }
   ],
   "source": [
    "if -5:\n",
    "    print(\"truthy\")\n",
    "else:\n",
    "    print(\"falsy\")"
   ]
  },
  {
   "cell_type": "markdown",
   "id": "416b6d95",
   "metadata": {},
   "source": [
    "## if-elif-else statements"
   ]
  },
  {
   "cell_type": "code",
   "execution_count": 32,
   "id": "b90b1e41",
   "metadata": {},
   "outputs": [
    {
     "name": "stdout",
     "output_type": "stream",
     "text": [
      "Give patient 500mg\n"
     ]
    }
   ],
   "source": [
    "weight = 12\n",
    "\n",
    "if weight < 20:\n",
    "    print(\"Give patient 500mg\")\n",
    "elif weight < 40:\n",
    "    print(\"Give patient 750mg\")\n",
    "else:\n",
    "    print(\"Give patient 1000mg\")"
   ]
  },
  {
   "cell_type": "markdown",
   "id": "305b86e3",
   "metadata": {},
   "source": [
    "## Nested if statements"
   ]
  },
  {
   "cell_type": "code",
   "execution_count": 34,
   "id": "e8d584b0",
   "metadata": {},
   "outputs": [
    {
     "name": "stdout",
     "output_type": "stream",
     "text": [
      "25 is divisible by 5\n",
      "25 is odd\n"
     ]
    }
   ],
   "source": [
    "number = 25\n",
    "\n",
    "if number % 5 == 0:\n",
    "    print(f'{number} is divisible by 5')\n",
    "    if number % 2 == 0:\n",
    "        print(f'{number} is even')\n",
    "    else:\n",
    "        print(f'{number} is odd')"
   ]
  },
  {
   "cell_type": "code",
   "execution_count": 35,
   "id": "c6f15f5f",
   "metadata": {},
   "outputs": [],
   "source": [
    "number = 26\n",
    "\n",
    "if number % 5 == 0:\n",
    "    print(f'{number} is divisible by 5')\n",
    "    if number % 2 == 0:\n",
    "        print(f'{number} is even')\n",
    "    else:\n",
    "        print(f'{number} is odd')"
   ]
  },
  {
   "cell_type": "markdown",
   "id": "99d2ad31",
   "metadata": {},
   "source": [
    "## One line if-statements"
   ]
  },
  {
   "cell_type": "code",
   "execution_count": 38,
   "id": "1e1b651d",
   "metadata": {},
   "outputs": [
    {
     "name": "stdout",
     "output_type": "stream",
     "text": [
      "Olivia contains the letter \"o\" \n"
     ]
    }
   ],
   "source": [
    "name = \"Olivia\"\n",
    "gender = \"female\"\n",
    "age = 7\n",
    "\n",
    "# one line if statement\n",
    "if \"o\" in name.lower(): print(f'{name} contains the letter \"o\" ') "
   ]
  },
  {
   "cell_type": "code",
   "execution_count": 39,
   "id": "717e62bd",
   "metadata": {},
   "outputs": [
    {
     "name": "stdout",
     "output_type": "stream",
     "text": [
      "Hi Ms. Olivia\n"
     ]
    }
   ],
   "source": [
    "print (f\"Hi Mr.{name}\") if gender == \"male\" else print(f'Hi Ms. {name}')"
   ]
  },
  {
   "cell_type": "code",
   "execution_count": 42,
   "id": "92157e8f",
   "metadata": {},
   "outputs": [
    {
     "data": {
      "text/plain": [
       "True"
      ]
     },
     "execution_count": 42,
     "metadata": {},
     "output_type": "execute_result"
    }
   ],
   "source": [
    "# One line if-else variable assignment\n",
    "\n",
    "age = 5\n",
    "\n",
    "is_child = True if age < 18 else False\n",
    "is_child"
   ]
  }
 ],
 "metadata": {
  "kernelspec": {
   "display_name": "exercises",
   "language": "python",
   "name": "python3"
  },
  "language_info": {
   "codemirror_mode": {
    "name": "ipython",
    "version": 3
   },
   "file_extension": ".py",
   "mimetype": "text/x-python",
   "name": "python",
   "nbconvert_exporter": "python",
   "pygments_lexer": "ipython3",
   "version": "3.12.10"
  }
 },
 "nbformat": 4,
 "nbformat_minor": 5
}
