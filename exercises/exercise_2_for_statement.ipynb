{
 "cells": [
  {
   "cell_type": "markdown",
   "id": "9dc9f350",
   "metadata": {},
   "source": [
    "## for statement"
   ]
  },
  {
   "cell_type": "code",
   "execution_count": 1,
   "id": "59afbbba",
   "metadata": {},
   "outputs": [
    {
     "name": "stdout",
     "output_type": "stream",
     "text": [
      "0\n",
      "1\n",
      "2\n"
     ]
    }
   ],
   "source": [
    "for i in range(3):\n",
    "    print(i)"
   ]
  },
  {
   "cell_type": "code",
   "execution_count": 2,
   "id": "88f316f0",
   "metadata": {},
   "outputs": [
    {
     "name": "stdout",
     "output_type": "stream",
     "text": [
      "Number 0\n",
      "Number 1\n",
      "Number 2\n"
     ]
    }
   ],
   "source": [
    "for i in range(3):\n",
    "    print(f'Number {i}')"
   ]
  },
  {
   "cell_type": "code",
   "execution_count": null,
   "id": "dab9ee50",
   "metadata": {},
   "outputs": [
    {
     "name": "stdout",
     "output_type": "stream",
     "text": [
      "0 1 2 3 4 5 6 7 8 9 "
     ]
    }
   ],
   "source": [
    "# print in one line\n",
    "for i in range(10):\n",
    "    print(i, end = \" \")"
   ]
  },
  {
   "cell_type": "code",
   "execution_count": 6,
   "id": "e988110e",
   "metadata": {},
   "outputs": [
    {
     "name": "stdout",
     "output_type": "stream",
     "text": [
      "2 3 4 5 6 7 8 9 "
     ]
    }
   ],
   "source": [
    "for i in range (2, 10):\n",
    "    print(i, end = \" \")"
   ]
  },
  {
   "cell_type": "code",
   "execution_count": null,
   "id": "e5e8c745",
   "metadata": {},
   "outputs": [
    {
     "name": "stdout",
     "output_type": "stream",
     "text": [
      "2 4 6 8 "
     ]
    }
   ],
   "source": [
    "# Every 2 numbers in between\n",
    "for i in range (2, 10, 2):\n",
    "    print(i, end = \" \")"
   ]
  },
  {
   "cell_type": "code",
   "execution_count": 8,
   "id": "0b2cb49a",
   "metadata": {},
   "outputs": [
    {
     "name": "stdout",
     "output_type": "stream",
     "text": [
      "0+1+2+3+4+5 = 0\n",
      "0+1+2+3+4+5 = 1\n",
      "0+1+2+3+4+5 = 3\n",
      "0+1+2+3+4+5 = 6\n",
      "0+1+2+3+4+5 = 10\n",
      "0+1+2+3+4+5 = 15\n"
     ]
    }
   ],
   "source": [
    "# creating \"sum_\" as a convention, not to overwrite the default function in python.\n",
    "\n",
    "sum_ = 0\n",
    "\n",
    "for i in range (6):\n",
    "    sum_ += i\n",
    "    print(f\"0+1+2+3+4+5 = {sum_}\")"
   ]
  },
  {
   "cell_type": "markdown",
   "id": "59f00291",
   "metadata": {},
   "source": []
  },
  {
   "cell_type": "markdown",
   "id": "8c7b7c17",
   "metadata": {},
   "source": [
    "## random module"
   ]
  },
  {
   "cell_type": "code",
   "execution_count": 20,
   "id": "b700cb2b",
   "metadata": {},
   "outputs": [
    {
     "name": "stdout",
     "output_type": "stream",
     "text": [
      "Number if sixes 1640 in 10000 dice rolls\n",
      "Probability of getting a six is  0.164\n"
     ]
    }
   ],
   "source": [
    "import random as rnd\n",
    "\n",
    "dice_rolls = 10_000\n",
    "num_six = 0\n",
    "\n",
    "for i in range(dice_rolls):\n",
    "    dice = rnd.randint (1,6)\n",
    "    if dice == 6:\n",
    "        num_six +=1\n",
    "\n",
    "print(f'Number if sixes {num_six} in {dice_rolls} dice rolls')\n",
    "print(f'Probability of getting a six is  {num_six/dice_rolls}')\n"
   ]
  },
  {
   "cell_type": "markdown",
   "id": "f346f7dc",
   "metadata": {},
   "source": []
  },
  {
   "cell_type": "markdown",
   "id": "cfe8c987",
   "metadata": {},
   "source": [
    "## Loop through a list"
   ]
  },
  {
   "cell_type": "code",
   "execution_count": 21,
   "id": "4ba5b429",
   "metadata": {},
   "outputs": [
    {
     "data": {
      "text/plain": [
       "['apple, orange, grape, strawberry']"
      ]
     },
     "execution_count": 21,
     "metadata": {},
     "output_type": "execute_result"
    }
   ],
   "source": [
    "fruits = [\"apple, orange, grape, strawberry\"]\n",
    "fruits"
   ]
  },
  {
   "cell_type": "code",
   "execution_count": 27,
   "id": "5a28c727",
   "metadata": {},
   "outputs": [
    {
     "name": "stdout",
     "output_type": "stream",
     "text": [
      "I love to eat\n",
      "apple\n",
      "orange\n",
      "grape\n",
      "strawberry\n"
     ]
    }
   ],
   "source": [
    "fruits = [\"apple\", \"orange\", \"grape\", \"strawberry\"]\n",
    "\n",
    "print(\"I love to eat\")\n",
    "for fruit in fruits:\n",
    "    print(fruit)"
   ]
  },
  {
   "cell_type": "code",
   "execution_count": null,
   "id": "356ce613",
   "metadata": {},
   "outputs": [],
   "source": []
  },
  {
   "cell_type": "code",
   "execution_count": 28,
   "id": "68633c07",
   "metadata": {},
   "outputs": [
    {
     "name": "stdout",
     "output_type": "stream",
     "text": [
      "My favorite fruits are \n",
      " 1.  apple\n",
      " 2.  orange\n",
      " 3.  grape\n",
      " 4.  strawberry\n"
     ]
    }
   ],
   "source": [
    "print(\"My favorite fruits are \")\n",
    "for i, fruit in enumerate (fruits, 1):\n",
    "    print(f' {i}.  {fruit}')"
   ]
  },
  {
   "cell_type": "code",
   "execution_count": 32,
   "id": "cedb4f68",
   "metadata": {},
   "outputs": [
    {
     "name": "stdout",
     "output_type": "stream",
     "text": [
      "FRUIT               RECIPE\n",
      "apple, orange, grape, strawberrypie, juice, juice, cake\n"
     ]
    }
   ],
   "source": [
    "fruits = [\"apple, orange, grape, strawberry\"]\n",
    "recipes = [\"pie, juice, juice, cake\"]\n",
    "\n",
    "print(f'{'FRUIT':<20}RECIPE')\n",
    "for fruit, recipe in zip (fruits, recipes):\n",
    "    print(f'{fruit :<20}{recipe}')\n",
    "    "
   ]
  },
  {
   "cell_type": "markdown",
   "id": "ffd806ee",
   "metadata": {},
   "source": []
  },
  {
   "cell_type": "markdown",
   "id": "9484be28",
   "metadata": {},
   "source": [
    "## Nested for loops"
   ]
  },
  {
   "cell_type": "code",
   "execution_count": 35,
   "id": "60ced211",
   "metadata": {},
   "outputs": [
    {
     "name": "stdout",
     "output_type": "stream",
     "text": [
      " (0,  0)  (0,  1)  (0,  2) \n",
      " (1,  0)  (1,  1)  (1,  2) \n",
      " (2,  0)  (2,  1)  (2,  2) \n"
     ]
    }
   ],
   "source": [
    "for x in range (3):\n",
    "    for y in range (3):\n",
    "        print(f' ({x},  {y})', end = \" \")\n",
    "    print()"
   ]
  },
  {
   "cell_type": "code",
   "execution_count": null,
   "id": "5bc10afc",
   "metadata": {},
   "outputs": [],
   "source": []
  }
 ],
 "metadata": {
  "kernelspec": {
   "display_name": "exercises",
   "language": "python",
   "name": "python3"
  },
  "language_info": {
   "codemirror_mode": {
    "name": "ipython",
    "version": 3
   },
   "file_extension": ".py",
   "mimetype": "text/x-python",
   "name": "python",
   "nbconvert_exporter": "python",
   "pygments_lexer": "ipython3",
   "version": "3.12.10"
  }
 },
 "nbformat": 4,
 "nbformat_minor": 5
}
